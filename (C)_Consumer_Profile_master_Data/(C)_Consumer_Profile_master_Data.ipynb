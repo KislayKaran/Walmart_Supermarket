{
  "nbformat": 4,
  "nbformat_minor": 0,
  "metadata": {
    "colab": {
      "name": "(C)_Consumer_Profile_master_Data.ipynb",
      "provenance": [],
      "collapsed_sections": []
    },
    "kernelspec": {
      "name": "python3",
      "display_name": "Python 3"
    },
    "language_info": {
      "name": "python"
    }
  },
  "cells": [
    {
      "cell_type": "markdown",
      "source": [
        "\n",
        "#Over here we require only one csv file 04_c \n",
        "\n",
        "CSV files 05_c, 06_c, 07_c are created using faker"
      ],
      "metadata": {
        "id": "BlTL6KHst3fs"
      }
    },
    {
      "cell_type": "code",
      "execution_count": null,
      "metadata": {
        "id": "H0NmE5sjJ_8S"
      },
      "outputs": [],
      "source": [
        "from datetime import datetime\n",
        "import uuid\n",
        "import random\n",
        "import pandas as pd"
      ]
    },
    {
      "cell_type": "code",
      "source": [
        "!pip show faker"
      ],
      "metadata": {
        "colab": {
          "base_uri": "https://localhost:8080/"
        },
        "id": "8eU94gZoQsss",
        "outputId": "2e85bc8e-efc0-483e-861a-514b0f5be55d"
      },
      "execution_count": null,
      "outputs": [
        {
          "output_type": "stream",
          "name": "stdout",
          "text": [
            "\u001b[33mWARNING: Package(s) not found: faker\u001b[0m\n"
          ]
        }
      ]
    },
    {
      "cell_type": "code",
      "source": [
        "!pip install faker"
      ],
      "metadata": {
        "colab": {
          "base_uri": "https://localhost:8080/"
        },
        "id": "jcjaC9TvQu_E",
        "outputId": "27745fed-f072-47d0-b001-942b034f075a"
      },
      "execution_count": null,
      "outputs": [
        {
          "output_type": "stream",
          "name": "stdout",
          "text": [
            "Looking in indexes: https://pypi.org/simple, https://us-python.pkg.dev/colab-wheels/public/simple/\n",
            "Collecting faker\n",
            "  Downloading Faker-13.15.1-py3-none-any.whl (1.6 MB)\n",
            "\u001b[K     |████████████████████████████████| 1.6 MB 5.2 MB/s \n",
            "\u001b[?25hRequirement already satisfied: typing-extensions>=3.10.0.2 in /usr/local/lib/python3.7/dist-packages (from faker) (4.1.1)\n",
            "Requirement already satisfied: python-dateutil>=2.4 in /usr/local/lib/python3.7/dist-packages (from faker) (2.8.2)\n",
            "Requirement already satisfied: six>=1.5 in /usr/local/lib/python3.7/dist-packages (from python-dateutil>=2.4->faker) (1.15.0)\n",
            "Installing collected packages: faker\n",
            "Successfully installed faker-13.15.1\n"
          ]
        }
      ]
    },
    {
      "cell_type": "code",
      "source": [
        "from faker import Faker\n",
        "faker = Faker()"
      ],
      "metadata": {
        "id": "-02BRo8cQyDC"
      },
      "execution_count": null,
      "outputs": []
    },
    {
      "cell_type": "markdown",
      "source": [
        "Making the User infos in the form of Functions so as to call these functions whenever required"
      ],
      "metadata": {
        "id": "rgQGrD4uRz8j"
      }
    },
    {
      "cell_type": "code",
      "source": [
        "def get_age_years_month(dob):\n",
        "  age_days = (datetime.now().date() - dob)\n",
        "  age_days = age_days.days\n",
        "  age_years = int(age_days/365)\n",
        "  age_months = int((age_days%365)/30)\n",
        "  return age_years, age_months"
      ],
      "metadata": {
        "id": "0Es3utr8Q0pI"
      },
      "execution_count": null,
      "outputs": []
    },
    {
      "cell_type": "code",
      "source": [
        "def create_job_info():\n",
        "  job = faker.job()\n",
        "  company = faker.company()\n",
        "  address = faker.address()\n",
        "  job_data = {'job_name': job, 'job_company': company, 'job_address': address}\n",
        "  return job_data"
      ],
      "metadata": {
        "id": "NRV-rUuQReDS"
      },
      "execution_count": null,
      "outputs": []
    },
    {
      "cell_type": "code",
      "source": [
        "def create_income_group():\n",
        "  income_groups = [40000, 80000, 120000, 160000, 200000, 240000, 270000, 300000]\n",
        "  income_choice = random.choice(income_groups)\n",
        "  return income_choice"
      ],
      "metadata": {
        "id": "UTaXNu6NRerW"
      },
      "execution_count": null,
      "outputs": []
    },
    {
      "cell_type": "code",
      "source": [
        "def create_credit_card_info():\n",
        "  card_types = ['amex', 'diners', 'discover', 'jcb', 'jcb15', 'jcb16', 'maestro', 'mastercard', 'visa', 'visa13', 'visa16', 'visa19']\n",
        "  card_choice = random.choice(card_types)\n",
        "  card_provider = faker.credit_card_provider(card_choice)\n",
        "  credit_card_number = faker.credit_card_number(card_choice)\n",
        "  credit_card_security_code = faker.credit_card_security_code(card_choice)\n",
        "  credit_card_expire = faker.credit_card_expire()\n",
        "  cc_data = {'card_choice': card_choice, 'card_provider': card_provider, 'credit_card_number': credit_card_number, \n",
        "             'credit_card_security_code': credit_card_security_code, 'credit_card_expire': credit_card_expire}\n",
        "  return cc_data"
      ],
      "metadata": {
        "id": "QSQIPvaCRjzL"
      },
      "execution_count": null,
      "outputs": []
    },
    {
      "cell_type": "code",
      "source": [
        "def kid_profile(profile_type, family_name, family_id, mom_age_years):\n",
        "  faimly_data = None\n",
        "  profile_uuid = str(uuid.uuid4())\n",
        "  if profile_type in ['m', 'M']:    \n",
        "    first_name = faker.first_name_male()\n",
        "  else:\n",
        "    first_name = faker.first_name_female()\n",
        "  dob = faker.date_of_birth(maximum_age=(mom_age_years - 18), minimum_age=1,)\n",
        "  age_years, age_months = get_age_years_month(dob)\n",
        "  phone_number = faker.phone_number()\n",
        "  ssn = faker.ssn()                                       # Social Security Number   (ssn)\n",
        "  faimly_data = {'profile_uuid': profile_uuid, 'family_id': family_id, 'family_name': family_name, 'first_name': first_name, \n",
        "                  'dob': dob, 'age_years':age_years,'ssn': ssn, 'marital_status': 'single'}\n",
        "  return faimly_data"
      ],
      "metadata": {
        "id": "otbTdpiTRmMi"
      },
      "execution_count": null,
      "outputs": []
    },
    {
      "cell_type": "code",
      "source": [
        "def add_kids_to_family(family_name, family_id, mom_dob):\n",
        "  kids_group = random.randint(0, 3)           #Returns any random integer from 0 to 3\n",
        "  all_kids = []\n",
        "  mom_age_years, mom_age_months = get_age_years_month(mom_dob)\n",
        "  if kids_group > 0:\n",
        "    for each_kid in range(kids_group):\n",
        "      is_male_kid = faker.boolean() # if true male kid or else female kid\n",
        "      if is_male_kid == 0: \n",
        "        kid_data = kid_profile('m', family_name, family_id, mom_age_years) # male                 # calling the 'kid_profile' function\n",
        "      else:\n",
        "        kid_data = kid_profile('f', family_name, family_id, mom_age_years) # female\n",
        "      all_kids.append(kid_data)\n",
        "  return all_kids"
      ],
      "metadata": {
        "id": "DVgCc2GZFX0q"
      },
      "execution_count": null,
      "outputs": []
    },
    {
      "cell_type": "code",
      "source": [
        "def add_user_family(profile_type,family_name, family_id, age_years):\n",
        "  profile_uuid = str(uuid.uuid4())\n",
        "  family_groups = ['single', 'married']\n",
        "  family_choice = random.choice(family_groups)\n",
        "  faimly_data = None  \n",
        "  if family_choice == 'married':\n",
        "    if profile_type in ['m', 'M']:\n",
        "     first_name = faker.first_name_female()\n",
        "    else:\n",
        "     first_name = faker.first_name_male()\n",
        "\n",
        "    dob = faker.date_of_birth(maximum_age=age_years +5, minimum_age=21)\n",
        "    age_years, age_months = get_age_years_month(dob)\n",
        "    phone_number = faker.phone_number()\n",
        "    ssn = faker.ssn()\n",
        "     \n",
        "    faimly_data = {'profile_uuid': profile_uuid, 'family_id': family_id, 'family_name': family_name, 'first_name': first_name, 'dob': dob,\n",
        "                 'age_years':age_years,'phone_number': phone_number, 'ssn': ssn,'marital_status': family_choice }\n",
        "  return faimly_data"
      ],
      "metadata": {
        "id": "Ytth7K9AU5nT"
      },
      "execution_count": null,
      "outputs": []
    },
    {
      "cell_type": "code",
      "source": [
        "def create_user_profile(profile_type):\n",
        "  profile_uuid = str(uuid.uuid4())\n",
        "  family_id = faker.lexify(text='??????????') # Family ID\n",
        "  family_name = faker.last_name()\n",
        "  if profile_type in ['m', 'M']:    \n",
        "    first_name = faker.first_name_male()\n",
        "  else:\n",
        "    first_name = faker.first_name_female()\n",
        "    \n",
        "  dob = faker.date_of_birth(maximum_age=80, minimum_age=21)\n",
        "  age_years, age_months = get_age_years_month(dob)\n",
        "  phone_number = faker.phone_number()\n",
        "  ssn = faker.ssn()\n",
        "  family_data = {'profile_uuid': profile_uuid, 'family_id': family_id, 'family_name': family_name, 'first_name': first_name, 'dob': dob,\n",
        "                 'age_years':age_years, 'phone_number': phone_number, 'ssn': ssn}\n",
        "\n",
        "  # Adding Income Group\n",
        "  income_group = create_income_group()\n",
        "  family_data['income_group'] = income_group    # adding 'income_group' as new key in family_data dictionary\n",
        "  # Adding Job Info\n",
        "  job_info = create_job_info()      # adding all the return values from the create_job_info() function as the keys +values in the family_data dictionary\n",
        "  family_data.update(job_info)     \n",
        "  # Adding Credit Card Info\n",
        "  cc_info = create_credit_card_info()    # similarly adding the cc_info as the previously using .update method\n",
        "  family_data.update(cc_info)\n",
        "  ## Adding User Family            \n",
        "  user_family_data = add_user_family(profile_type,family_name, family_id, age_years)\n",
        "  if user_family_data is not None:\n",
        "    family_data['marital_status'] = 'married'\n",
        "  else:\n",
        "    family_data['marital_status'] = 'single'\n",
        "  # Adding Kids\n",
        "  kids_list = []\n",
        "  if age_years >= 25 and user_family_data is not None:\n",
        "    kids_list = add_kids_to_family(family_name, family_id, user_family_data['dob'])\n",
        "  return family_data, user_family_data, kids_list"
      ],
      "metadata": {
        "id": "ThHc5ZiOTshQ"
      },
      "execution_count": null,
      "outputs": []
    },
    {
      "cell_type": "code",
      "source": [
        "family_data, user_family_data, kids_list = create_user_profile('M')\n",
        "\n",
        "print(family_data)\n",
        "print(user_family_data)\n",
        "print(kids_list)\n",
        "print('Kids Count :' ,len(kids_list))"
      ],
      "metadata": {
        "id": "X9Ck76k-TslZ",
        "colab": {
          "base_uri": "https://localhost:8080/"
        },
        "outputId": "0b50a521-d3b2-4c2c-a6f9-d2afd72747e1"
      },
      "execution_count": null,
      "outputs": [
        {
          "output_type": "stream",
          "name": "stdout",
          "text": [
            "{'profile_uuid': '7b0a7d04-3329-43ef-8e1c-a6ac20de7eaf', 'family_id': 'KgnGsHwxWP', 'family_name': 'Palmer', 'first_name': 'Randy', 'dob': datetime.date(1990, 8, 29), 'age_years': 31, 'phone_number': '295-613-0350', 'ssn': '171-60-9212', 'income_group': 80000, 'job_name': 'Research scientist (life sciences)', 'job_company': 'Walker Group', 'job_address': '72938 Bullock Radial Suite 579\\nLake Joseph, ND 62904', 'card_choice': 'discover', 'card_provider': 'Discover', 'credit_card_number': '6585790882070259', 'credit_card_security_code': '816', 'credit_card_expire': '01/24', 'marital_status': 'married'}\n",
            "{'profile_uuid': '62e69999-6853-4657-a56b-a76547ef8ea0', 'family_id': 'KgnGsHwxWP', 'family_name': 'Palmer', 'first_name': 'Bridget', 'dob': datetime.date(1993, 8, 26), 'age_years': 28, 'phone_number': '(274)453-4798x54066', 'ssn': '322-75-0535', 'marital_status': 'married'}\n",
            "[{'profile_uuid': '18e975e2-31ac-45af-a2d9-ae5cb5e2c72c', 'family_id': 'KgnGsHwxWP', 'family_name': 'Palmer', 'first_name': 'Mary', 'dob': datetime.date(2011, 11, 6), 'age_years': 10, 'ssn': '461-04-2964', 'marital_status': 'single'}, {'profile_uuid': 'f21cfeb5-d348-4d95-b94e-2875357023fd', 'family_id': 'KgnGsHwxWP', 'family_name': 'Palmer', 'first_name': 'Ashley', 'dob': datetime.date(2013, 8, 26), 'age_years': 8, 'ssn': '059-20-2582', 'marital_status': 'single'}]\n",
            "Kids Count : 2\n"
          ]
        }
      ]
    },
    {
      "cell_type": "markdown",
      "source": [
        "#Vehicle Data"
      ],
      "metadata": {
        "id": "yBlALHMs9c0G"
      }
    },
    {
      "cell_type": "code",
      "source": [
        "!pip install faker_vehicle"
      ],
      "metadata": {
        "id": "YoZ3Ld20Tspv",
        "colab": {
          "base_uri": "https://localhost:8080/"
        },
        "outputId": "da0ec99f-3032-48f4-9ac3-32c7ae765d0a"
      },
      "execution_count": null,
      "outputs": [
        {
          "output_type": "stream",
          "name": "stdout",
          "text": [
            "Looking in indexes: https://pypi.org/simple, https://us-python.pkg.dev/colab-wheels/public/simple/\n",
            "Collecting faker_vehicle\n",
            "  Downloading faker_vehicle-0.2.0-py2.py3-none-any.whl (162 kB)\n",
            "\u001b[K     |████████████████████████████████| 162 kB 5.4 MB/s \n",
            "\u001b[?25hRequirement already satisfied: faker in /usr/local/lib/python3.7/dist-packages (from faker_vehicle) (13.15.1)\n",
            "Requirement already satisfied: python-dateutil>=2.4 in /usr/local/lib/python3.7/dist-packages (from faker->faker_vehicle) (2.8.2)\n",
            "Requirement already satisfied: typing-extensions>=3.10.0.2 in /usr/local/lib/python3.7/dist-packages (from faker->faker_vehicle) (4.1.1)\n",
            "Requirement already satisfied: six>=1.5 in /usr/local/lib/python3.7/dist-packages (from python-dateutil>=2.4->faker->faker_vehicle) (1.15.0)\n",
            "Installing collected packages: faker-vehicle\n",
            "Successfully installed faker-vehicle-0.2.0\n"
          ]
        }
      ]
    },
    {
      "cell_type": "code",
      "source": [
        "from faker_vehicle import VehicleProvider\n",
        "faker.add_provider(VehicleProvider)"
      ],
      "metadata": {
        "id": "vNJ5S-a2BSSm"
      },
      "execution_count": null,
      "outputs": []
    },
    {
      "cell_type": "code",
      "source": [
        "def create_vehicle_data(family_id):           # relating Vehicle Data to a particullar family_id\n",
        "  vehicle_object = faker.vehicle_object()\n",
        "  vehicle_license = faker.pystr_format(string_format=\"???? ###\")\n",
        "  vehicle_vin = faker.pystr_format(string_format=\"#??###??????######\")\n",
        "  vehicle_data = {'vehicle_category': vehicle_object['Category'], 'vehicle_maker': vehicle_object['Make'], \n",
        "                  'vehicle_model': vehicle_object['Model'], 'vehicle_year': vehicle_object['Year'], \n",
        "                  'vehicle_license': vehicle_license, 'vehicle_vin': vehicle_vin,\n",
        "                  'family_id': family_id}\n",
        "  return vehicle_data"
      ],
      "metadata": {
        "id": "oakm2V9WBl4f"
      },
      "execution_count": null,
      "outputs": []
    },
    {
      "cell_type": "code",
      "source": [
        "vehicle_data = create_vehicle_data('xx')\n",
        "vehicle_data"
      ],
      "metadata": {
        "colab": {
          "base_uri": "https://localhost:8080/"
        },
        "id": "gDU46wMnOY-H",
        "outputId": "628a6d7d-7528-4dd3-df9c-d1b4188a34fa"
      },
      "execution_count": null,
      "outputs": [
        {
          "output_type": "execute_result",
          "data": {
            "text/plain": [
              "{'family_id': 'xx',\n",
              " 'vehicle_category': 'SUV',\n",
              " 'vehicle_license': 'peal 221',\n",
              " 'vehicle_maker': 'Toyota',\n",
              " 'vehicle_model': 'Sequoia',\n",
              " 'vehicle_vin': '6nA185IkTJAB517045',\n",
              " 'vehicle_year': 2011}"
            ]
          },
          "metadata": {},
          "execution_count": 17
        }
      ]
    },
    {
      "cell_type": "markdown",
      "source": [
        "# Address or Location Data"
      ],
      "metadata": {
        "id": "3e7GO2CHc4rv"
      }
    },
    {
      "cell_type": "code",
      "source": [
        "df = pd.read_csv('https://raw.githubusercontent.com/KislayKaran/Walmart_Supermarket/main/Required_CSV_files/04_c_wm_stores_single_precision_(created_csv).csv')\n"
      ],
      "metadata": {
        "id": "BsaW7I9kOZFx"
      },
      "execution_count": null,
      "outputs": []
    },
    {
      "cell_type": "code",
      "source": [
        "df = df[['state', 'city', 'zip_code', 'latitude', 'longitude']]\n",
        "df.head()"
      ],
      "metadata": {
        "colab": {
          "base_uri": "https://localhost:8080/",
          "height": 206
        },
        "id": "zzqo6Cy5OZMp",
        "outputId": "e6c7a5b3-9868-465d-ab46-ebbc59022db2"
      },
      "execution_count": null,
      "outputs": [
        {
          "output_type": "execute_result",
          "data": {
            "text/plain": [
              "  state       city  zip_code  latitude  longitude\n",
              "0    LA  Abbeville     70510      30.0      -92.1\n",
              "1    MD   Aberdeen     21001      39.5      -76.2\n",
              "2    NC   Aberdeen     28315      35.2      -79.4\n",
              "3    SD   Aberdeen     57401      45.5      -98.4\n",
              "4    WA   Aberdeen     98520      47.0     -123.8"
            ],
            "text/html": [
              "\n",
              "  <div id=\"df-e4c0b5b7-4dc1-4dd0-b66d-93048a9c8672\">\n",
              "    <div class=\"colab-df-container\">\n",
              "      <div>\n",
              "<style scoped>\n",
              "    .dataframe tbody tr th:only-of-type {\n",
              "        vertical-align: middle;\n",
              "    }\n",
              "\n",
              "    .dataframe tbody tr th {\n",
              "        vertical-align: top;\n",
              "    }\n",
              "\n",
              "    .dataframe thead th {\n",
              "        text-align: right;\n",
              "    }\n",
              "</style>\n",
              "<table border=\"1\" class=\"dataframe\">\n",
              "  <thead>\n",
              "    <tr style=\"text-align: right;\">\n",
              "      <th></th>\n",
              "      <th>state</th>\n",
              "      <th>city</th>\n",
              "      <th>zip_code</th>\n",
              "      <th>latitude</th>\n",
              "      <th>longitude</th>\n",
              "    </tr>\n",
              "  </thead>\n",
              "  <tbody>\n",
              "    <tr>\n",
              "      <th>0</th>\n",
              "      <td>LA</td>\n",
              "      <td>Abbeville</td>\n",
              "      <td>70510</td>\n",
              "      <td>30.0</td>\n",
              "      <td>-92.1</td>\n",
              "    </tr>\n",
              "    <tr>\n",
              "      <th>1</th>\n",
              "      <td>MD</td>\n",
              "      <td>Aberdeen</td>\n",
              "      <td>21001</td>\n",
              "      <td>39.5</td>\n",
              "      <td>-76.2</td>\n",
              "    </tr>\n",
              "    <tr>\n",
              "      <th>2</th>\n",
              "      <td>NC</td>\n",
              "      <td>Aberdeen</td>\n",
              "      <td>28315</td>\n",
              "      <td>35.2</td>\n",
              "      <td>-79.4</td>\n",
              "    </tr>\n",
              "    <tr>\n",
              "      <th>3</th>\n",
              "      <td>SD</td>\n",
              "      <td>Aberdeen</td>\n",
              "      <td>57401</td>\n",
              "      <td>45.5</td>\n",
              "      <td>-98.4</td>\n",
              "    </tr>\n",
              "    <tr>\n",
              "      <th>4</th>\n",
              "      <td>WA</td>\n",
              "      <td>Aberdeen</td>\n",
              "      <td>98520</td>\n",
              "      <td>47.0</td>\n",
              "      <td>-123.8</td>\n",
              "    </tr>\n",
              "  </tbody>\n",
              "</table>\n",
              "</div>\n",
              "      <button class=\"colab-df-convert\" onclick=\"convertToInteractive('df-e4c0b5b7-4dc1-4dd0-b66d-93048a9c8672')\"\n",
              "              title=\"Convert this dataframe to an interactive table.\"\n",
              "              style=\"display:none;\">\n",
              "        \n",
              "  <svg xmlns=\"http://www.w3.org/2000/svg\" height=\"24px\"viewBox=\"0 0 24 24\"\n",
              "       width=\"24px\">\n",
              "    <path d=\"M0 0h24v24H0V0z\" fill=\"none\"/>\n",
              "    <path d=\"M18.56 5.44l.94 2.06.94-2.06 2.06-.94-2.06-.94-.94-2.06-.94 2.06-2.06.94zm-11 1L8.5 8.5l.94-2.06 2.06-.94-2.06-.94L8.5 2.5l-.94 2.06-2.06.94zm10 10l.94 2.06.94-2.06 2.06-.94-2.06-.94-.94-2.06-.94 2.06-2.06.94z\"/><path d=\"M17.41 7.96l-1.37-1.37c-.4-.4-.92-.59-1.43-.59-.52 0-1.04.2-1.43.59L10.3 9.45l-7.72 7.72c-.78.78-.78 2.05 0 2.83L4 21.41c.39.39.9.59 1.41.59.51 0 1.02-.2 1.41-.59l7.78-7.78 2.81-2.81c.8-.78.8-2.07 0-2.86zM5.41 20L4 18.59l7.72-7.72 1.47 1.35L5.41 20z\"/>\n",
              "  </svg>\n",
              "      </button>\n",
              "      \n",
              "  <style>\n",
              "    .colab-df-container {\n",
              "      display:flex;\n",
              "      flex-wrap:wrap;\n",
              "      gap: 12px;\n",
              "    }\n",
              "\n",
              "    .colab-df-convert {\n",
              "      background-color: #E8F0FE;\n",
              "      border: none;\n",
              "      border-radius: 50%;\n",
              "      cursor: pointer;\n",
              "      display: none;\n",
              "      fill: #1967D2;\n",
              "      height: 32px;\n",
              "      padding: 0 0 0 0;\n",
              "      width: 32px;\n",
              "    }\n",
              "\n",
              "    .colab-df-convert:hover {\n",
              "      background-color: #E2EBFA;\n",
              "      box-shadow: 0px 1px 2px rgba(60, 64, 67, 0.3), 0px 1px 3px 1px rgba(60, 64, 67, 0.15);\n",
              "      fill: #174EA6;\n",
              "    }\n",
              "\n",
              "    [theme=dark] .colab-df-convert {\n",
              "      background-color: #3B4455;\n",
              "      fill: #D2E3FC;\n",
              "    }\n",
              "\n",
              "    [theme=dark] .colab-df-convert:hover {\n",
              "      background-color: #434B5C;\n",
              "      box-shadow: 0px 1px 3px 1px rgba(0, 0, 0, 0.15);\n",
              "      filter: drop-shadow(0px 1px 2px rgba(0, 0, 0, 0.3));\n",
              "      fill: #FFFFFF;\n",
              "    }\n",
              "  </style>\n",
              "\n",
              "      <script>\n",
              "        const buttonEl =\n",
              "          document.querySelector('#df-e4c0b5b7-4dc1-4dd0-b66d-93048a9c8672 button.colab-df-convert');\n",
              "        buttonEl.style.display =\n",
              "          google.colab.kernel.accessAllowed ? 'block' : 'none';\n",
              "\n",
              "        async function convertToInteractive(key) {\n",
              "          const element = document.querySelector('#df-e4c0b5b7-4dc1-4dd0-b66d-93048a9c8672');\n",
              "          const dataTable =\n",
              "            await google.colab.kernel.invokeFunction('convertToInteractive',\n",
              "                                                     [key], {});\n",
              "          if (!dataTable) return;\n",
              "\n",
              "          const docLinkHtml = 'Like what you see? Visit the ' +\n",
              "            '<a target=\"_blank\" href=https://colab.research.google.com/notebooks/data_table.ipynb>data table notebook</a>'\n",
              "            + ' to learn more about interactive tables.';\n",
              "          element.innerHTML = '';\n",
              "          dataTable['output_type'] = 'display_data';\n",
              "          await google.colab.output.renderOutput(dataTable, element);\n",
              "          const docLink = document.createElement('div');\n",
              "          docLink.innerHTML = docLinkHtml;\n",
              "          element.appendChild(docLink);\n",
              "        }\n",
              "      </script>\n",
              "    </div>\n",
              "  </div>\n",
              "  "
            ]
          },
          "metadata": {},
          "execution_count": 20
        }
      ]
    },
    {
      "cell_type": "code",
      "source": [
        "def get_walmart_loc_by_state(state):  \n",
        "  if state is not None:\n",
        "    df_local = df[df['state'] == state]\n",
        "    if len(df_local) > 0:\n",
        "      local_location = df_local.sample(1).to_dict(orient='records')\n",
        "      if local_location is not None and len(local_location) > 0:\n",
        "        return local_location[0]\n",
        "  return None\n",
        "\n",
        "  "
      ],
      "metadata": {
        "id": "vKWxAV6lOZTJ"
      },
      "execution_count": null,
      "outputs": []
    },
    {
      "cell_type": "code",
      "source": [
        "#Suppose\n",
        "store = get_walmart_loc_by_state('NY')\n",
        "store"
      ],
      "metadata": {
        "id": "zpHNCKIWOZW2",
        "colab": {
          "base_uri": "https://localhost:8080/"
        },
        "outputId": "d481510d-cbb4-48f0-98bb-9a36798cf28d"
      },
      "execution_count": null,
      "outputs": [
        {
          "output_type": "execute_result",
          "data": {
            "text/plain": [
              "{'city': 'Lancaster',\n",
              " 'latitude': 42.9,\n",
              " 'longitude': -78.7,\n",
              " 'state': 'NY',\n",
              " 'zip_code': 14043}"
            ]
          },
          "metadata": {},
          "execution_count": 22
        }
      ]
    },
    {
      "cell_type": "code",
      "source": [
        "def generate_user_location(family_id, state):\n",
        "  street_address = faker.street_address()\n",
        "  selected_location = get_walmart_loc_by_state(state)\n",
        "  state = selected_location['state']\n",
        "  city = selected_location['city']\n",
        "  zip_code = selected_location['zip_code']\n",
        "  latitude = selected_location['latitude']\n",
        "  longitude = selected_location['longitude']\n",
        "  #print(\"latitude : \" + str(latitude) + ' longitude: ' + str(longitude))\n",
        "  random_6_digits_float = round(random.uniform(0.01, 0.09), 6)\n",
        "  if latitude > 0:\n",
        "    latitude = latitude + random_6_digits_float\n",
        "  else:\n",
        "    latitude = latitude - random_6_digits_float\n",
        "  latitude = round(latitude,6)\n",
        "  random_6_digits_float = round(random.uniform(0.01, 0.09), 6)\n",
        "  if longitude > 0:\n",
        "    longitude = longitude + random_6_digits_float\n",
        "  else:\n",
        "    longitude = longitude - random_6_digits_float\n",
        "  longitude = round(longitude,6)\n",
        "  #print(\"latitude : \" + str(latitude) + ' longitude: ' + str(longitude))\n",
        "  location_data = {'street_address': street_address, 'city': city, 'state': state, 'zip_code': zip_code, \n",
        "                   'longitude': longitude, 'latitude': latitude, 'family_id': family_id}\n",
        "  return location_data"
      ],
      "metadata": {
        "id": "tfO-qQbVbwCw"
      },
      "execution_count": null,
      "outputs": []
    },
    {
      "cell_type": "markdown",
      "source": [
        "#Combining User Profile and family with location data"
      ],
      "metadata": {
        "id": "saMSkLJGb0uo"
      }
    },
    {
      "cell_type": "code",
      "source": [
        "user_profile, user_family_data, kids_list = create_user_profile('m')\n",
        "location_data = generate_user_location(user_profile['family_id'], 'CA')\n",
        "vehicle_data = create_vehicle_data(user_profile['family_id'])"
      ],
      "metadata": {
        "id": "dGh1U2_RbxU3"
      },
      "execution_count": null,
      "outputs": []
    },
    {
      "cell_type": "code",
      "source": [
        "print(user_profile)\n",
        "print(user_family_data)\n",
        "print(kids_list)\n",
        "print(location_data)\n",
        "print(vehicle_data)"
      ],
      "metadata": {
        "colab": {
          "base_uri": "https://localhost:8080/"
        },
        "id": "dNaproDzbxkV",
        "outputId": "1f83fa32-d098-4271-8d91-1290cf009d88"
      },
      "execution_count": null,
      "outputs": [
        {
          "output_type": "stream",
          "name": "stdout",
          "text": [
            "{'profile_uuid': 'db50c86c-744b-41b6-abba-a23d161916b9', 'family_id': 'ZOHGtiwiaE', 'family_name': 'Perez', 'first_name': 'James', 'dob': datetime.date(1994, 3, 23), 'age_years': 28, 'phone_number': '(757)740-8767', 'ssn': '110-68-2197', 'income_group': 80000, 'job_name': 'Water engineer', 'job_company': 'Fowler Ltd', 'job_address': 'USCGC Taylor\\nFPO AA 52427', 'card_choice': 'visa', 'card_provider': 'VISA 16 digit', 'credit_card_number': '4354179721696496', 'credit_card_security_code': '498', 'credit_card_expire': '10/30', 'marital_status': 'married'}\n",
            "{'profile_uuid': 'e8dc278b-6bef-4920-9702-863ae0cf94a8', 'family_id': 'ZOHGtiwiaE', 'family_name': 'Perez', 'first_name': 'Brandy', 'dob': datetime.date(1999, 10, 20), 'age_years': 22, 'phone_number': '122.415.5377x7412', 'ssn': '203-59-2994', 'marital_status': 'married'}\n",
            "[{'profile_uuid': '6b7feb84-06ad-47a6-b3a0-e386168aa1cc', 'family_id': 'ZOHGtiwiaE', 'family_name': 'Perez', 'first_name': 'Daniel', 'dob': datetime.date(2020, 3, 26), 'age_years': 2, 'ssn': '616-23-0509', 'marital_status': 'single'}, {'profile_uuid': 'ccd08090-9a01-40b3-8dc4-0fb87217910d', 'family_id': 'ZOHGtiwiaE', 'family_name': 'Perez', 'first_name': 'Melissa', 'dob': datetime.date(2019, 6, 17), 'age_years': 3, 'ssn': '634-39-4544', 'marital_status': 'single'}, {'profile_uuid': '5d9044aa-0fe7-4bc1-afe4-ef86ab279755', 'family_id': 'ZOHGtiwiaE', 'family_name': 'Perez', 'first_name': 'Daniel', 'dob': datetime.date(2018, 8, 9), 'age_years': 4, 'ssn': '215-22-6198', 'marital_status': 'single'}]\n",
            "{'street_address': '8525 Johnson Heights', 'city': 'El Cajon', 'state': 'CA', 'zip_code': 92021, 'longitude': -116.979797, 'latitude': 32.860304, 'family_id': 'ZOHGtiwiaE'}\n",
            "{'vehicle_category': 'Pickup', 'vehicle_maker': 'Chevrolet', 'vehicle_model': 'Silverado 2500 HD Regular Cab', 'vehicle_year': 2013, 'vehicle_license': 'mZQR 763', 'vehicle_vin': '5Hj889gwUKZc693141', 'family_id': 'ZOHGtiwiaE'}\n"
          ]
        }
      ]
    },
    {
      "cell_type": "markdown",
      "source": [
        "#Creating Record(s) into DataFrame"
      ],
      "metadata": {
        "id": "QybbV86Ucb27"
      }
    },
    {
      "cell_type": "code",
      "source": [
        "all_states = df['state'].unique().tolist()\n",
        "print(len(all_states))\n",
        "print(all_states)"
      ],
      "metadata": {
        "colab": {
          "base_uri": "https://localhost:8080/"
        },
        "id": "8iQ4X4a4bxrQ",
        "outputId": "857e59cc-c3e3-4c65-f4c1-469e21447a09"
      },
      "execution_count": null,
      "outputs": [
        {
          "output_type": "stream",
          "name": "stdout",
          "text": [
            "52\n",
            "['LA', 'MD', 'NC', 'SD', 'WA', 'TX', 'VA', 'MA', 'GA', 'OK', 'IL', 'MI', 'SC', 'OH', 'AL', 'NM', 'CO', 'NY', 'OR', 'MN', 'TN', 'KY', 'PA', 'AR', 'FL', 'IA', 'CA', 'UT', 'NH', 'ID', 'MS', 'AK', 'IN', 'AZ', 'WI', 'KS', 'MO', 'ME', 'NJ', 'CT', 'WV', 'PR', 'NE', 'VT', 'MT', 'ND', 'DE', 'NV', 'WY', 'RI', 'HI', 'DC']\n"
          ]
        }
      ]
    },
    {
      "cell_type": "code",
      "source": [
        "user_profile_records = []\n",
        "user_address_records = []\n",
        "user_vehicle_records = []\n",
        "total_users = 0\n",
        "record_count = 100\n",
        "for state in all_states: # ['CA', 'WA', 'OR']:\n",
        "  print('Generating ' + str(record_count) + ' records for state - ' + state)\n",
        "  for i in range(record_count):\n",
        "    user_profile, user_family_data, kids_list = create_user_profile('m')\n",
        "    user_profile_records.append(user_profile)\n",
        "    total_users = total_users + 1\n",
        "    if user_family_data is not None:\n",
        "      user_profile_records.append(user_family_data)\n",
        "      total_users = total_users + 1\n",
        "    if len(kids_list) > 0:\n",
        "      for kid in kids_list:\n",
        "        total_users = total_users + 1\n",
        "        user_profile_records.append(kid)\n",
        "    location_data = generate_user_location(user_profile['family_id'], state)\n",
        "    user_address_records.append(location_data)\n",
        "    user_vehicle_records.append(create_vehicle_data(user_profile['family_id']))\n",
        "    if user_profile['marital_status'] == 'married':\n",
        "      user_vehicle_records.append(create_vehicle_data(user_profile['family_id']))\n",
        "\n",
        "print(\"Total Profiles: \", total_users)\n"
      ],
      "metadata": {
        "colab": {
          "base_uri": "https://localhost:8080/"
        },
        "id": "2R8ycgDxckFW",
        "outputId": "4dc00e52-1649-4e8b-9315-c87d25c481a6"
      },
      "execution_count": null,
      "outputs": [
        {
          "output_type": "stream",
          "name": "stdout",
          "text": [
            "Generating 100 records for state - LA\n",
            "Generating 100 records for state - MD\n",
            "Generating 100 records for state - NC\n",
            "Generating 100 records for state - SD\n",
            "Generating 100 records for state - WA\n",
            "Generating 100 records for state - TX\n",
            "Generating 100 records for state - VA\n",
            "Generating 100 records for state - MA\n",
            "Generating 100 records for state - GA\n",
            "Generating 100 records for state - OK\n",
            "Generating 100 records for state - IL\n",
            "Generating 100 records for state - MI\n",
            "Generating 100 records for state - SC\n",
            "Generating 100 records for state - OH\n",
            "Generating 100 records for state - AL\n",
            "Generating 100 records for state - NM\n",
            "Generating 100 records for state - CO\n",
            "Generating 100 records for state - NY\n",
            "Generating 100 records for state - OR\n",
            "Generating 100 records for state - MN\n",
            "Generating 100 records for state - TN\n",
            "Generating 100 records for state - KY\n",
            "Generating 100 records for state - PA\n",
            "Generating 100 records for state - AR\n",
            "Generating 100 records for state - FL\n",
            "Generating 100 records for state - IA\n",
            "Generating 100 records for state - CA\n",
            "Generating 100 records for state - UT\n",
            "Generating 100 records for state - NH\n",
            "Generating 100 records for state - ID\n",
            "Generating 100 records for state - MS\n",
            "Generating 100 records for state - AK\n",
            "Generating 100 records for state - IN\n",
            "Generating 100 records for state - AZ\n",
            "Generating 100 records for state - WI\n",
            "Generating 100 records for state - KS\n",
            "Generating 100 records for state - MO\n",
            "Generating 100 records for state - ME\n",
            "Generating 100 records for state - NJ\n",
            "Generating 100 records for state - CT\n",
            "Generating 100 records for state - WV\n",
            "Generating 100 records for state - PR\n",
            "Generating 100 records for state - NE\n",
            "Generating 100 records for state - VT\n",
            "Generating 100 records for state - MT\n",
            "Generating 100 records for state - ND\n",
            "Generating 100 records for state - DE\n",
            "Generating 100 records for state - NV\n",
            "Generating 100 records for state - WY\n",
            "Generating 100 records for state - RI\n",
            "Generating 100 records for state - HI\n",
            "Generating 100 records for state - DC\n",
            "Total Profiles:  11390\n"
          ]
        }
      ]
    },
    {
      "cell_type": "code",
      "source": [
        "user_df = pd.DataFrame(user_profile_records)\n",
        "address_df = pd.DataFrame(user_address_records)\n",
        "vehicle_df = pd.DataFrame(user_vehicle_records)\n"
      ],
      "metadata": {
        "id": "x2IB6oY3cuCn"
      },
      "execution_count": null,
      "outputs": []
    },
    {
      "cell_type": "code",
      "source": [
        "user_df.to_csv('05_c_user_profile_[(created_csv) using_faker].csv')"
      ],
      "metadata": {
        "id": "zlezcPgkfJtS"
      },
      "execution_count": null,
      "outputs": []
    },
    {
      "cell_type": "code",
      "source": [
        "address_df.to_csv('06_c_user_address_[(created_csv) using_faker].csv')"
      ],
      "metadata": {
        "id": "dZlFit6VfKVk"
      },
      "execution_count": null,
      "outputs": []
    },
    {
      "cell_type": "code",
      "source": [
        "vehicle_df.to_csv('07_c_user_vehicle_[(created_csv) using_faker].csv')"
      ],
      "metadata": {
        "id": "Rm-wnbEcfKkg"
      },
      "execution_count": null,
      "outputs": []
    },
    {
      "cell_type": "code",
      "source": [
        "user_df.head()"
      ],
      "metadata": {
        "colab": {
          "base_uri": "https://localhost:8080/",
          "height": 513
        },
        "id": "z_EqzLrPNgyF",
        "outputId": "ca7ddfb4-a4b0-4a1e-d103-ee35ad27f348"
      },
      "execution_count": null,
      "outputs": [
        {
          "output_type": "execute_result",
          "data": {
            "text/plain": [
              "                           profile_uuid   family_id family_name first_name  \\\n",
              "0  ebd20c5e-2eee-4bc7-9003-b9d713695399  cXOKfEmuaP      Fuller   Jeremiah   \n",
              "1  a6d86078-9ed1-4863-a9df-9fde1a52f8c9  cXOKfEmuaP      Fuller     Teresa   \n",
              "2  fceeffca-81a1-4111-80d2-8b9e494f5ee5  cXOKfEmuaP      Fuller    Brandon   \n",
              "3  067e6fd5-6db9-40cf-a59b-afaa06d8bc69  cXOKfEmuaP      Fuller     Krista   \n",
              "4  2ce1e78a-0cdf-4889-9990-91bf5a5ff2b5  WyUHMYshda      Harmon     Robert   \n",
              "\n",
              "          dob  age_years        phone_number          ssn  income_group  \\\n",
              "0  1977-12-09         44   564-235-6420x2707  093-82-0703       40000.0   \n",
              "1  1987-06-19         35    690-786-5666x772  010-11-9469           NaN   \n",
              "2  2006-09-02         15                 NaN  643-53-3672           NaN   \n",
              "3  2015-08-12          6                 NaN  325-64-1951           NaN   \n",
              "4  1964-06-27         58  379-473-2357x68927  728-20-5617      270000.0   \n",
              "\n",
              "                  job_name job_company  \\\n",
              "0  Horticultural therapist  Martin LLC   \n",
              "1                      NaN         NaN   \n",
              "2                      NaN         NaN   \n",
              "3                      NaN         NaN   \n",
              "4       Personal assistant  Barton PLC   \n",
              "\n",
              "                                         job_address card_choice  \\\n",
              "0  32063 Jessica Walks\\nSouth Christopherstad, ID...       jcb16   \n",
              "1                                                NaN         NaN   \n",
              "2                                                NaN         NaN   \n",
              "3                                                NaN         NaN   \n",
              "4                          USNV Gordon\\nFPO AP 83113        visa   \n",
              "\n",
              "   card_provider credit_card_number credit_card_security_code  \\\n",
              "0   JCB 16 digit   3501928094619764                       220   \n",
              "1            NaN                NaN                       NaN   \n",
              "2            NaN                NaN                       NaN   \n",
              "3            NaN                NaN                       NaN   \n",
              "4  VISA 16 digit   4085846699561771                       810   \n",
              "\n",
              "  credit_card_expire marital_status  \n",
              "0              02/27        married  \n",
              "1                NaN        married  \n",
              "2                NaN         single  \n",
              "3                NaN         single  \n",
              "4              01/32         single  "
            ],
            "text/html": [
              "\n",
              "  <div id=\"df-6e25eea0-2c9c-4b5e-ab8a-41032fbcc754\">\n",
              "    <div class=\"colab-df-container\">\n",
              "      <div>\n",
              "<style scoped>\n",
              "    .dataframe tbody tr th:only-of-type {\n",
              "        vertical-align: middle;\n",
              "    }\n",
              "\n",
              "    .dataframe tbody tr th {\n",
              "        vertical-align: top;\n",
              "    }\n",
              "\n",
              "    .dataframe thead th {\n",
              "        text-align: right;\n",
              "    }\n",
              "</style>\n",
              "<table border=\"1\" class=\"dataframe\">\n",
              "  <thead>\n",
              "    <tr style=\"text-align: right;\">\n",
              "      <th></th>\n",
              "      <th>profile_uuid</th>\n",
              "      <th>family_id</th>\n",
              "      <th>family_name</th>\n",
              "      <th>first_name</th>\n",
              "      <th>dob</th>\n",
              "      <th>age_years</th>\n",
              "      <th>phone_number</th>\n",
              "      <th>ssn</th>\n",
              "      <th>income_group</th>\n",
              "      <th>job_name</th>\n",
              "      <th>job_company</th>\n",
              "      <th>job_address</th>\n",
              "      <th>card_choice</th>\n",
              "      <th>card_provider</th>\n",
              "      <th>credit_card_number</th>\n",
              "      <th>credit_card_security_code</th>\n",
              "      <th>credit_card_expire</th>\n",
              "      <th>marital_status</th>\n",
              "    </tr>\n",
              "  </thead>\n",
              "  <tbody>\n",
              "    <tr>\n",
              "      <th>0</th>\n",
              "      <td>ebd20c5e-2eee-4bc7-9003-b9d713695399</td>\n",
              "      <td>cXOKfEmuaP</td>\n",
              "      <td>Fuller</td>\n",
              "      <td>Jeremiah</td>\n",
              "      <td>1977-12-09</td>\n",
              "      <td>44</td>\n",
              "      <td>564-235-6420x2707</td>\n",
              "      <td>093-82-0703</td>\n",
              "      <td>40000.0</td>\n",
              "      <td>Horticultural therapist</td>\n",
              "      <td>Martin LLC</td>\n",
              "      <td>32063 Jessica Walks\\nSouth Christopherstad, ID...</td>\n",
              "      <td>jcb16</td>\n",
              "      <td>JCB 16 digit</td>\n",
              "      <td>3501928094619764</td>\n",
              "      <td>220</td>\n",
              "      <td>02/27</td>\n",
              "      <td>married</td>\n",
              "    </tr>\n",
              "    <tr>\n",
              "      <th>1</th>\n",
              "      <td>a6d86078-9ed1-4863-a9df-9fde1a52f8c9</td>\n",
              "      <td>cXOKfEmuaP</td>\n",
              "      <td>Fuller</td>\n",
              "      <td>Teresa</td>\n",
              "      <td>1987-06-19</td>\n",
              "      <td>35</td>\n",
              "      <td>690-786-5666x772</td>\n",
              "      <td>010-11-9469</td>\n",
              "      <td>NaN</td>\n",
              "      <td>NaN</td>\n",
              "      <td>NaN</td>\n",
              "      <td>NaN</td>\n",
              "      <td>NaN</td>\n",
              "      <td>NaN</td>\n",
              "      <td>NaN</td>\n",
              "      <td>NaN</td>\n",
              "      <td>NaN</td>\n",
              "      <td>married</td>\n",
              "    </tr>\n",
              "    <tr>\n",
              "      <th>2</th>\n",
              "      <td>fceeffca-81a1-4111-80d2-8b9e494f5ee5</td>\n",
              "      <td>cXOKfEmuaP</td>\n",
              "      <td>Fuller</td>\n",
              "      <td>Brandon</td>\n",
              "      <td>2006-09-02</td>\n",
              "      <td>15</td>\n",
              "      <td>NaN</td>\n",
              "      <td>643-53-3672</td>\n",
              "      <td>NaN</td>\n",
              "      <td>NaN</td>\n",
              "      <td>NaN</td>\n",
              "      <td>NaN</td>\n",
              "      <td>NaN</td>\n",
              "      <td>NaN</td>\n",
              "      <td>NaN</td>\n",
              "      <td>NaN</td>\n",
              "      <td>NaN</td>\n",
              "      <td>single</td>\n",
              "    </tr>\n",
              "    <tr>\n",
              "      <th>3</th>\n",
              "      <td>067e6fd5-6db9-40cf-a59b-afaa06d8bc69</td>\n",
              "      <td>cXOKfEmuaP</td>\n",
              "      <td>Fuller</td>\n",
              "      <td>Krista</td>\n",
              "      <td>2015-08-12</td>\n",
              "      <td>6</td>\n",
              "      <td>NaN</td>\n",
              "      <td>325-64-1951</td>\n",
              "      <td>NaN</td>\n",
              "      <td>NaN</td>\n",
              "      <td>NaN</td>\n",
              "      <td>NaN</td>\n",
              "      <td>NaN</td>\n",
              "      <td>NaN</td>\n",
              "      <td>NaN</td>\n",
              "      <td>NaN</td>\n",
              "      <td>NaN</td>\n",
              "      <td>single</td>\n",
              "    </tr>\n",
              "    <tr>\n",
              "      <th>4</th>\n",
              "      <td>2ce1e78a-0cdf-4889-9990-91bf5a5ff2b5</td>\n",
              "      <td>WyUHMYshda</td>\n",
              "      <td>Harmon</td>\n",
              "      <td>Robert</td>\n",
              "      <td>1964-06-27</td>\n",
              "      <td>58</td>\n",
              "      <td>379-473-2357x68927</td>\n",
              "      <td>728-20-5617</td>\n",
              "      <td>270000.0</td>\n",
              "      <td>Personal assistant</td>\n",
              "      <td>Barton PLC</td>\n",
              "      <td>USNV Gordon\\nFPO AP 83113</td>\n",
              "      <td>visa</td>\n",
              "      <td>VISA 16 digit</td>\n",
              "      <td>4085846699561771</td>\n",
              "      <td>810</td>\n",
              "      <td>01/32</td>\n",
              "      <td>single</td>\n",
              "    </tr>\n",
              "  </tbody>\n",
              "</table>\n",
              "</div>\n",
              "      <button class=\"colab-df-convert\" onclick=\"convertToInteractive('df-6e25eea0-2c9c-4b5e-ab8a-41032fbcc754')\"\n",
              "              title=\"Convert this dataframe to an interactive table.\"\n",
              "              style=\"display:none;\">\n",
              "        \n",
              "  <svg xmlns=\"http://www.w3.org/2000/svg\" height=\"24px\"viewBox=\"0 0 24 24\"\n",
              "       width=\"24px\">\n",
              "    <path d=\"M0 0h24v24H0V0z\" fill=\"none\"/>\n",
              "    <path d=\"M18.56 5.44l.94 2.06.94-2.06 2.06-.94-2.06-.94-.94-2.06-.94 2.06-2.06.94zm-11 1L8.5 8.5l.94-2.06 2.06-.94-2.06-.94L8.5 2.5l-.94 2.06-2.06.94zm10 10l.94 2.06.94-2.06 2.06-.94-2.06-.94-.94-2.06-.94 2.06-2.06.94z\"/><path d=\"M17.41 7.96l-1.37-1.37c-.4-.4-.92-.59-1.43-.59-.52 0-1.04.2-1.43.59L10.3 9.45l-7.72 7.72c-.78.78-.78 2.05 0 2.83L4 21.41c.39.39.9.59 1.41.59.51 0 1.02-.2 1.41-.59l7.78-7.78 2.81-2.81c.8-.78.8-2.07 0-2.86zM5.41 20L4 18.59l7.72-7.72 1.47 1.35L5.41 20z\"/>\n",
              "  </svg>\n",
              "      </button>\n",
              "      \n",
              "  <style>\n",
              "    .colab-df-container {\n",
              "      display:flex;\n",
              "      flex-wrap:wrap;\n",
              "      gap: 12px;\n",
              "    }\n",
              "\n",
              "    .colab-df-convert {\n",
              "      background-color: #E8F0FE;\n",
              "      border: none;\n",
              "      border-radius: 50%;\n",
              "      cursor: pointer;\n",
              "      display: none;\n",
              "      fill: #1967D2;\n",
              "      height: 32px;\n",
              "      padding: 0 0 0 0;\n",
              "      width: 32px;\n",
              "    }\n",
              "\n",
              "    .colab-df-convert:hover {\n",
              "      background-color: #E2EBFA;\n",
              "      box-shadow: 0px 1px 2px rgba(60, 64, 67, 0.3), 0px 1px 3px 1px rgba(60, 64, 67, 0.15);\n",
              "      fill: #174EA6;\n",
              "    }\n",
              "\n",
              "    [theme=dark] .colab-df-convert {\n",
              "      background-color: #3B4455;\n",
              "      fill: #D2E3FC;\n",
              "    }\n",
              "\n",
              "    [theme=dark] .colab-df-convert:hover {\n",
              "      background-color: #434B5C;\n",
              "      box-shadow: 0px 1px 3px 1px rgba(0, 0, 0, 0.15);\n",
              "      filter: drop-shadow(0px 1px 2px rgba(0, 0, 0, 0.3));\n",
              "      fill: #FFFFFF;\n",
              "    }\n",
              "  </style>\n",
              "\n",
              "      <script>\n",
              "        const buttonEl =\n",
              "          document.querySelector('#df-6e25eea0-2c9c-4b5e-ab8a-41032fbcc754 button.colab-df-convert');\n",
              "        buttonEl.style.display =\n",
              "          google.colab.kernel.accessAllowed ? 'block' : 'none';\n",
              "\n",
              "        async function convertToInteractive(key) {\n",
              "          const element = document.querySelector('#df-6e25eea0-2c9c-4b5e-ab8a-41032fbcc754');\n",
              "          const dataTable =\n",
              "            await google.colab.kernel.invokeFunction('convertToInteractive',\n",
              "                                                     [key], {});\n",
              "          if (!dataTable) return;\n",
              "\n",
              "          const docLinkHtml = 'Like what you see? Visit the ' +\n",
              "            '<a target=\"_blank\" href=https://colab.research.google.com/notebooks/data_table.ipynb>data table notebook</a>'\n",
              "            + ' to learn more about interactive tables.';\n",
              "          element.innerHTML = '';\n",
              "          dataTable['output_type'] = 'display_data';\n",
              "          await google.colab.output.renderOutput(dataTable, element);\n",
              "          const docLink = document.createElement('div');\n",
              "          docLink.innerHTML = docLinkHtml;\n",
              "          element.appendChild(docLink);\n",
              "        }\n",
              "      </script>\n",
              "    </div>\n",
              "  </div>\n",
              "  "
            ]
          },
          "metadata": {},
          "execution_count": 32
        }
      ]
    },
    {
      "cell_type": "code",
      "source": [
        " len(user_df. index)          # total profiles Generated"
      ],
      "metadata": {
        "colab": {
          "base_uri": "https://localhost:8080/"
        },
        "id": "Pe5igXGlOC41",
        "outputId": "7e2dc7da-b2d3-4257-edc3-c5e91576f681"
      },
      "execution_count": null,
      "outputs": [
        {
          "output_type": "execute_result",
          "data": {
            "text/plain": [
              "11390"
            ]
          },
          "metadata": {},
          "execution_count": 33
        }
      ]
    },
    {
      "cell_type": "code",
      "source": [
        "address_df.head()"
      ],
      "metadata": {
        "colab": {
          "base_uri": "https://localhost:8080/",
          "height": 206
        },
        "id": "FzUAaJM6Pcos",
        "outputId": "15f4d488-256a-4f37-89c5-f845422d1553"
      },
      "execution_count": null,
      "outputs": [
        {
          "output_type": "execute_result",
          "data": {
            "text/plain": [
              "                street_address          city state  zip_code  longitude  \\\n",
              "0  67582 Diaz Parkway Apt. 713   New Orleans    LA     70114 -90.046132   \n",
              "1     06898 Gutierrez Motorway       Slidell    LA     70458 -89.861673   \n",
              "2          62930 Murphy Forges   West Monroe    LA     71291 -92.242020   \n",
              "3    157 Duncan Route Apt. 996       Slidell    LA     70461 -89.713286   \n",
              "4          146 Rodriguez Plaza  Lake Charles    LA     70611 -93.284018   \n",
              "\n",
              "    latitude   family_id  \n",
              "0  29.945745  cXOKfEmuaP  \n",
              "1  30.351911  WyUHMYshda  \n",
              "2  32.510795  bFfcQwnSUD  \n",
              "3  30.361041  JAKIJrkNwq  \n",
              "4  30.383500  oShKyaaEDW  "
            ],
            "text/html": [
              "\n",
              "  <div id=\"df-bacc94e7-b73b-44a8-9429-6f3dd9bf9e84\">\n",
              "    <div class=\"colab-df-container\">\n",
              "      <div>\n",
              "<style scoped>\n",
              "    .dataframe tbody tr th:only-of-type {\n",
              "        vertical-align: middle;\n",
              "    }\n",
              "\n",
              "    .dataframe tbody tr th {\n",
              "        vertical-align: top;\n",
              "    }\n",
              "\n",
              "    .dataframe thead th {\n",
              "        text-align: right;\n",
              "    }\n",
              "</style>\n",
              "<table border=\"1\" class=\"dataframe\">\n",
              "  <thead>\n",
              "    <tr style=\"text-align: right;\">\n",
              "      <th></th>\n",
              "      <th>street_address</th>\n",
              "      <th>city</th>\n",
              "      <th>state</th>\n",
              "      <th>zip_code</th>\n",
              "      <th>longitude</th>\n",
              "      <th>latitude</th>\n",
              "      <th>family_id</th>\n",
              "    </tr>\n",
              "  </thead>\n",
              "  <tbody>\n",
              "    <tr>\n",
              "      <th>0</th>\n",
              "      <td>67582 Diaz Parkway Apt. 713</td>\n",
              "      <td>New Orleans</td>\n",
              "      <td>LA</td>\n",
              "      <td>70114</td>\n",
              "      <td>-90.046132</td>\n",
              "      <td>29.945745</td>\n",
              "      <td>cXOKfEmuaP</td>\n",
              "    </tr>\n",
              "    <tr>\n",
              "      <th>1</th>\n",
              "      <td>06898 Gutierrez Motorway</td>\n",
              "      <td>Slidell</td>\n",
              "      <td>LA</td>\n",
              "      <td>70458</td>\n",
              "      <td>-89.861673</td>\n",
              "      <td>30.351911</td>\n",
              "      <td>WyUHMYshda</td>\n",
              "    </tr>\n",
              "    <tr>\n",
              "      <th>2</th>\n",
              "      <td>62930 Murphy Forges</td>\n",
              "      <td>West Monroe</td>\n",
              "      <td>LA</td>\n",
              "      <td>71291</td>\n",
              "      <td>-92.242020</td>\n",
              "      <td>32.510795</td>\n",
              "      <td>bFfcQwnSUD</td>\n",
              "    </tr>\n",
              "    <tr>\n",
              "      <th>3</th>\n",
              "      <td>157 Duncan Route Apt. 996</td>\n",
              "      <td>Slidell</td>\n",
              "      <td>LA</td>\n",
              "      <td>70461</td>\n",
              "      <td>-89.713286</td>\n",
              "      <td>30.361041</td>\n",
              "      <td>JAKIJrkNwq</td>\n",
              "    </tr>\n",
              "    <tr>\n",
              "      <th>4</th>\n",
              "      <td>146 Rodriguez Plaza</td>\n",
              "      <td>Lake Charles</td>\n",
              "      <td>LA</td>\n",
              "      <td>70611</td>\n",
              "      <td>-93.284018</td>\n",
              "      <td>30.383500</td>\n",
              "      <td>oShKyaaEDW</td>\n",
              "    </tr>\n",
              "  </tbody>\n",
              "</table>\n",
              "</div>\n",
              "      <button class=\"colab-df-convert\" onclick=\"convertToInteractive('df-bacc94e7-b73b-44a8-9429-6f3dd9bf9e84')\"\n",
              "              title=\"Convert this dataframe to an interactive table.\"\n",
              "              style=\"display:none;\">\n",
              "        \n",
              "  <svg xmlns=\"http://www.w3.org/2000/svg\" height=\"24px\"viewBox=\"0 0 24 24\"\n",
              "       width=\"24px\">\n",
              "    <path d=\"M0 0h24v24H0V0z\" fill=\"none\"/>\n",
              "    <path d=\"M18.56 5.44l.94 2.06.94-2.06 2.06-.94-2.06-.94-.94-2.06-.94 2.06-2.06.94zm-11 1L8.5 8.5l.94-2.06 2.06-.94-2.06-.94L8.5 2.5l-.94 2.06-2.06.94zm10 10l.94 2.06.94-2.06 2.06-.94-2.06-.94-.94-2.06-.94 2.06-2.06.94z\"/><path d=\"M17.41 7.96l-1.37-1.37c-.4-.4-.92-.59-1.43-.59-.52 0-1.04.2-1.43.59L10.3 9.45l-7.72 7.72c-.78.78-.78 2.05 0 2.83L4 21.41c.39.39.9.59 1.41.59.51 0 1.02-.2 1.41-.59l7.78-7.78 2.81-2.81c.8-.78.8-2.07 0-2.86zM5.41 20L4 18.59l7.72-7.72 1.47 1.35L5.41 20z\"/>\n",
              "  </svg>\n",
              "      </button>\n",
              "      \n",
              "  <style>\n",
              "    .colab-df-container {\n",
              "      display:flex;\n",
              "      flex-wrap:wrap;\n",
              "      gap: 12px;\n",
              "    }\n",
              "\n",
              "    .colab-df-convert {\n",
              "      background-color: #E8F0FE;\n",
              "      border: none;\n",
              "      border-radius: 50%;\n",
              "      cursor: pointer;\n",
              "      display: none;\n",
              "      fill: #1967D2;\n",
              "      height: 32px;\n",
              "      padding: 0 0 0 0;\n",
              "      width: 32px;\n",
              "    }\n",
              "\n",
              "    .colab-df-convert:hover {\n",
              "      background-color: #E2EBFA;\n",
              "      box-shadow: 0px 1px 2px rgba(60, 64, 67, 0.3), 0px 1px 3px 1px rgba(60, 64, 67, 0.15);\n",
              "      fill: #174EA6;\n",
              "    }\n",
              "\n",
              "    [theme=dark] .colab-df-convert {\n",
              "      background-color: #3B4455;\n",
              "      fill: #D2E3FC;\n",
              "    }\n",
              "\n",
              "    [theme=dark] .colab-df-convert:hover {\n",
              "      background-color: #434B5C;\n",
              "      box-shadow: 0px 1px 3px 1px rgba(0, 0, 0, 0.15);\n",
              "      filter: drop-shadow(0px 1px 2px rgba(0, 0, 0, 0.3));\n",
              "      fill: #FFFFFF;\n",
              "    }\n",
              "  </style>\n",
              "\n",
              "      <script>\n",
              "        const buttonEl =\n",
              "          document.querySelector('#df-bacc94e7-b73b-44a8-9429-6f3dd9bf9e84 button.colab-df-convert');\n",
              "        buttonEl.style.display =\n",
              "          google.colab.kernel.accessAllowed ? 'block' : 'none';\n",
              "\n",
              "        async function convertToInteractive(key) {\n",
              "          const element = document.querySelector('#df-bacc94e7-b73b-44a8-9429-6f3dd9bf9e84');\n",
              "          const dataTable =\n",
              "            await google.colab.kernel.invokeFunction('convertToInteractive',\n",
              "                                                     [key], {});\n",
              "          if (!dataTable) return;\n",
              "\n",
              "          const docLinkHtml = 'Like what you see? Visit the ' +\n",
              "            '<a target=\"_blank\" href=https://colab.research.google.com/notebooks/data_table.ipynb>data table notebook</a>'\n",
              "            + ' to learn more about interactive tables.';\n",
              "          element.innerHTML = '';\n",
              "          dataTable['output_type'] = 'display_data';\n",
              "          await google.colab.output.renderOutput(dataTable, element);\n",
              "          const docLink = document.createElement('div');\n",
              "          docLink.innerHTML = docLinkHtml;\n",
              "          element.appendChild(docLink);\n",
              "        }\n",
              "      </script>\n",
              "    </div>\n",
              "  </div>\n",
              "  "
            ]
          },
          "metadata": {},
          "execution_count": 34
        }
      ]
    },
    {
      "cell_type": "code",
      "source": [
        " len(address_df. index)     # Total address generated will be 52 (States) x 100 (records each)"
      ],
      "metadata": {
        "colab": {
          "base_uri": "https://localhost:8080/"
        },
        "id": "3-BGiauQPopA",
        "outputId": "d2c7e52f-f53b-4baa-a231-f734def10285"
      },
      "execution_count": null,
      "outputs": [
        {
          "output_type": "execute_result",
          "data": {
            "text/plain": [
              "5200"
            ]
          },
          "metadata": {},
          "execution_count": 35
        }
      ]
    },
    {
      "cell_type": "code",
      "source": [
        "vehicle_df.head()"
      ],
      "metadata": {
        "colab": {
          "base_uri": "https://localhost:8080/",
          "height": 206
        },
        "id": "RyZPi0jBPs3I",
        "outputId": "cdb7e5c2-4238-45c4-e170-889534d36ce1"
      },
      "execution_count": null,
      "outputs": [
        {
          "output_type": "execute_result",
          "data": {
            "text/plain": [
              "   vehicle_category vehicle_maker      vehicle_model  vehicle_year  \\\n",
              "0  Sedan, Hatchback           Kia            Spectra          2002   \n",
              "1            Pickup         Dodge  Ram 2500 Crew Cab          2010   \n",
              "2               SUV         Volvo               XC60          2016   \n",
              "3       Van/Minivan        Nissan              Quest          1996   \n",
              "4             Coupe         Scion                 tC          2012   \n",
              "\n",
              "  vehicle_license         vehicle_vin   family_id  \n",
              "0        tDdJ 279  3mR223XucqyK567941  cXOKfEmuaP  \n",
              "1        dyor 447  6QE077lTgztt431305  cXOKfEmuaP  \n",
              "2        npNc 433  3qQ293tdxwRT438592  WyUHMYshda  \n",
              "3        fMCv 438  3Gz059LtFIoX413603  bFfcQwnSUD  \n",
              "4        qiQZ 776  2Ga827Ekpoaf752678  bFfcQwnSUD  "
            ],
            "text/html": [
              "\n",
              "  <div id=\"df-f89e5566-a53a-48f9-a609-a08d7ab73a91\">\n",
              "    <div class=\"colab-df-container\">\n",
              "      <div>\n",
              "<style scoped>\n",
              "    .dataframe tbody tr th:only-of-type {\n",
              "        vertical-align: middle;\n",
              "    }\n",
              "\n",
              "    .dataframe tbody tr th {\n",
              "        vertical-align: top;\n",
              "    }\n",
              "\n",
              "    .dataframe thead th {\n",
              "        text-align: right;\n",
              "    }\n",
              "</style>\n",
              "<table border=\"1\" class=\"dataframe\">\n",
              "  <thead>\n",
              "    <tr style=\"text-align: right;\">\n",
              "      <th></th>\n",
              "      <th>vehicle_category</th>\n",
              "      <th>vehicle_maker</th>\n",
              "      <th>vehicle_model</th>\n",
              "      <th>vehicle_year</th>\n",
              "      <th>vehicle_license</th>\n",
              "      <th>vehicle_vin</th>\n",
              "      <th>family_id</th>\n",
              "    </tr>\n",
              "  </thead>\n",
              "  <tbody>\n",
              "    <tr>\n",
              "      <th>0</th>\n",
              "      <td>Sedan, Hatchback</td>\n",
              "      <td>Kia</td>\n",
              "      <td>Spectra</td>\n",
              "      <td>2002</td>\n",
              "      <td>tDdJ 279</td>\n",
              "      <td>3mR223XucqyK567941</td>\n",
              "      <td>cXOKfEmuaP</td>\n",
              "    </tr>\n",
              "    <tr>\n",
              "      <th>1</th>\n",
              "      <td>Pickup</td>\n",
              "      <td>Dodge</td>\n",
              "      <td>Ram 2500 Crew Cab</td>\n",
              "      <td>2010</td>\n",
              "      <td>dyor 447</td>\n",
              "      <td>6QE077lTgztt431305</td>\n",
              "      <td>cXOKfEmuaP</td>\n",
              "    </tr>\n",
              "    <tr>\n",
              "      <th>2</th>\n",
              "      <td>SUV</td>\n",
              "      <td>Volvo</td>\n",
              "      <td>XC60</td>\n",
              "      <td>2016</td>\n",
              "      <td>npNc 433</td>\n",
              "      <td>3qQ293tdxwRT438592</td>\n",
              "      <td>WyUHMYshda</td>\n",
              "    </tr>\n",
              "    <tr>\n",
              "      <th>3</th>\n",
              "      <td>Van/Minivan</td>\n",
              "      <td>Nissan</td>\n",
              "      <td>Quest</td>\n",
              "      <td>1996</td>\n",
              "      <td>fMCv 438</td>\n",
              "      <td>3Gz059LtFIoX413603</td>\n",
              "      <td>bFfcQwnSUD</td>\n",
              "    </tr>\n",
              "    <tr>\n",
              "      <th>4</th>\n",
              "      <td>Coupe</td>\n",
              "      <td>Scion</td>\n",
              "      <td>tC</td>\n",
              "      <td>2012</td>\n",
              "      <td>qiQZ 776</td>\n",
              "      <td>2Ga827Ekpoaf752678</td>\n",
              "      <td>bFfcQwnSUD</td>\n",
              "    </tr>\n",
              "  </tbody>\n",
              "</table>\n",
              "</div>\n",
              "      <button class=\"colab-df-convert\" onclick=\"convertToInteractive('df-f89e5566-a53a-48f9-a609-a08d7ab73a91')\"\n",
              "              title=\"Convert this dataframe to an interactive table.\"\n",
              "              style=\"display:none;\">\n",
              "        \n",
              "  <svg xmlns=\"http://www.w3.org/2000/svg\" height=\"24px\"viewBox=\"0 0 24 24\"\n",
              "       width=\"24px\">\n",
              "    <path d=\"M0 0h24v24H0V0z\" fill=\"none\"/>\n",
              "    <path d=\"M18.56 5.44l.94 2.06.94-2.06 2.06-.94-2.06-.94-.94-2.06-.94 2.06-2.06.94zm-11 1L8.5 8.5l.94-2.06 2.06-.94-2.06-.94L8.5 2.5l-.94 2.06-2.06.94zm10 10l.94 2.06.94-2.06 2.06-.94-2.06-.94-.94-2.06-.94 2.06-2.06.94z\"/><path d=\"M17.41 7.96l-1.37-1.37c-.4-.4-.92-.59-1.43-.59-.52 0-1.04.2-1.43.59L10.3 9.45l-7.72 7.72c-.78.78-.78 2.05 0 2.83L4 21.41c.39.39.9.59 1.41.59.51 0 1.02-.2 1.41-.59l7.78-7.78 2.81-2.81c.8-.78.8-2.07 0-2.86zM5.41 20L4 18.59l7.72-7.72 1.47 1.35L5.41 20z\"/>\n",
              "  </svg>\n",
              "      </button>\n",
              "      \n",
              "  <style>\n",
              "    .colab-df-container {\n",
              "      display:flex;\n",
              "      flex-wrap:wrap;\n",
              "      gap: 12px;\n",
              "    }\n",
              "\n",
              "    .colab-df-convert {\n",
              "      background-color: #E8F0FE;\n",
              "      border: none;\n",
              "      border-radius: 50%;\n",
              "      cursor: pointer;\n",
              "      display: none;\n",
              "      fill: #1967D2;\n",
              "      height: 32px;\n",
              "      padding: 0 0 0 0;\n",
              "      width: 32px;\n",
              "    }\n",
              "\n",
              "    .colab-df-convert:hover {\n",
              "      background-color: #E2EBFA;\n",
              "      box-shadow: 0px 1px 2px rgba(60, 64, 67, 0.3), 0px 1px 3px 1px rgba(60, 64, 67, 0.15);\n",
              "      fill: #174EA6;\n",
              "    }\n",
              "\n",
              "    [theme=dark] .colab-df-convert {\n",
              "      background-color: #3B4455;\n",
              "      fill: #D2E3FC;\n",
              "    }\n",
              "\n",
              "    [theme=dark] .colab-df-convert:hover {\n",
              "      background-color: #434B5C;\n",
              "      box-shadow: 0px 1px 3px 1px rgba(0, 0, 0, 0.15);\n",
              "      filter: drop-shadow(0px 1px 2px rgba(0, 0, 0, 0.3));\n",
              "      fill: #FFFFFF;\n",
              "    }\n",
              "  </style>\n",
              "\n",
              "      <script>\n",
              "        const buttonEl =\n",
              "          document.querySelector('#df-f89e5566-a53a-48f9-a609-a08d7ab73a91 button.colab-df-convert');\n",
              "        buttonEl.style.display =\n",
              "          google.colab.kernel.accessAllowed ? 'block' : 'none';\n",
              "\n",
              "        async function convertToInteractive(key) {\n",
              "          const element = document.querySelector('#df-f89e5566-a53a-48f9-a609-a08d7ab73a91');\n",
              "          const dataTable =\n",
              "            await google.colab.kernel.invokeFunction('convertToInteractive',\n",
              "                                                     [key], {});\n",
              "          if (!dataTable) return;\n",
              "\n",
              "          const docLinkHtml = 'Like what you see? Visit the ' +\n",
              "            '<a target=\"_blank\" href=https://colab.research.google.com/notebooks/data_table.ipynb>data table notebook</a>'\n",
              "            + ' to learn more about interactive tables.';\n",
              "          element.innerHTML = '';\n",
              "          dataTable['output_type'] = 'display_data';\n",
              "          await google.colab.output.renderOutput(dataTable, element);\n",
              "          const docLink = document.createElement('div');\n",
              "          docLink.innerHTML = docLinkHtml;\n",
              "          element.appendChild(docLink);\n",
              "        }\n",
              "      </script>\n",
              "    </div>\n",
              "  </div>\n",
              "  "
            ]
          },
          "metadata": {},
          "execution_count": 36
        }
      ]
    },
    {
      "cell_type": "code",
      "source": [
        " len(vehicle_df. index) "
      ],
      "metadata": {
        "colab": {
          "base_uri": "https://localhost:8080/"
        },
        "id": "v1t1LDyLeDFT",
        "outputId": "b2a23f61-7fee-4c17-e9c5-6db00e45a1e9"
      },
      "execution_count": null,
      "outputs": [
        {
          "output_type": "execute_result",
          "data": {
            "text/plain": [
              "7812"
            ]
          },
          "metadata": {},
          "execution_count": 37
        }
      ]
    }
  ]
}