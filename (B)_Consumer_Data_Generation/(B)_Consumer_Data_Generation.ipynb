{
  "nbformat": 4,
  "nbformat_minor": 0,
  "metadata": {
    "colab": {
      "name": "(B)_Consumer_Data_Generation.ipynb",
      "provenance": [],
      "collapsed_sections": []
    },
    "kernelspec": {
      "name": "python3",
      "display_name": "Python 3"
    },
    "language_info": {
      "name": "python"
    }
  },
  "cells": [
    {
      "cell_type": "markdown",
      "source": [
        "# Over here we require the two csv files ( 02_c ,04_c )\n",
        "\n",
        " using 02_c csv file, 04_c csv file is created"
      ],
      "metadata": {
        "id": "_FQdpE7wiMyy"
      }
    },
    {
      "cell_type": "code",
      "source": [
        "from datetime import datetime\n",
        "import uuid\n",
        "import random\n",
        "import pandas as pd"
      ],
      "metadata": {
        "id": "bNVmu9lDVfzr"
      },
      "execution_count": null,
      "outputs": []
    },
    {
      "cell_type": "code",
      "execution_count": null,
      "metadata": {
        "colab": {
          "base_uri": "https://localhost:8080/"
        },
        "id": "O2usfw1eOqFf",
        "outputId": "513cda00-c934-4fd8-9df0-cc335a553f10"
      },
      "outputs": [
        {
          "output_type": "stream",
          "name": "stdout",
          "text": [
            "Name: Faker\n",
            "Version: 13.15.1\n",
            "Summary: Faker is a Python package that generates fake data for you.\n",
            "Home-page: https://github.com/joke2k/faker\n",
            "Author: joke2k\n",
            "Author-email: joke2k@gmail.com\n",
            "License: MIT License\n",
            "Location: /usr/local/lib/python3.7/dist-packages\n",
            "Requires: python-dateutil, typing-extensions\n",
            "Required-by: \n"
          ]
        }
      ],
      "source": [
        "!pip show faker"
      ]
    },
    {
      "cell_type": "code",
      "source": [
        "!pip install faker"
      ],
      "metadata": {
        "colab": {
          "base_uri": "https://localhost:8080/"
        },
        "id": "rmgT5YF9PNAm",
        "outputId": "af85afef-3a0d-4a9b-8b24-f4c83b74427f"
      },
      "execution_count": null,
      "outputs": [
        {
          "output_type": "stream",
          "name": "stdout",
          "text": [
            "Looking in indexes: https://pypi.org/simple, https://us-python.pkg.dev/colab-wheels/public/simple/\n",
            "Requirement already satisfied: faker in /usr/local/lib/python3.7/dist-packages (13.15.1)\n",
            "Requirement already satisfied: typing-extensions>=3.10.0.2 in /usr/local/lib/python3.7/dist-packages (from faker) (4.1.1)\n",
            "Requirement already satisfied: python-dateutil>=2.4 in /usr/local/lib/python3.7/dist-packages (from faker) (2.8.2)\n",
            "Requirement already satisfied: six>=1.5 in /usr/local/lib/python3.7/dist-packages (from python-dateutil>=2.4->faker) (1.15.0)\n"
          ]
        }
      ]
    },
    {
      "cell_type": "code",
      "source": [
        "from faker import Faker"
      ],
      "metadata": {
        "id": "KFVoUnMoPUG0"
      },
      "execution_count": null,
      "outputs": []
    },
    {
      "cell_type": "code",
      "source": [
        "faker=Faker()  # Faker Object"
      ],
      "metadata": {
        "id": "NlOhW_B-Sf-p"
      },
      "execution_count": null,
      "outputs": []
    },
    {
      "cell_type": "markdown",
      "source": [
        "To Generate the Artificial Business Data"
      ],
      "metadata": {
        "id": "WH4FshC7Tm8X"
      }
    },
    {
      "cell_type": "code",
      "source": [
        "profile3 = faker.profile(sex='M')\n",
        "profile3"
      ],
      "metadata": {
        "colab": {
          "base_uri": "https://localhost:8080/"
        },
        "id": "NVY-JdNJTlDw",
        "outputId": "1c991b23-6a8b-4a4a-8879-e2e028c0f21f"
      },
      "execution_count": null,
      "outputs": [
        {
          "output_type": "execute_result",
          "data": {
            "text/plain": [
              "{'address': '21477 Hernandez Square\\nNorth Amberside, MS 86537',\n",
              " 'birthdate': datetime.date(1933, 2, 21),\n",
              " 'blood_group': 'AB-',\n",
              " 'company': 'Murray-Diaz',\n",
              " 'current_location': (Decimal('-37.3574185'), Decimal('-126.936166')),\n",
              " 'job': 'Sport and exercise psychologist',\n",
              " 'mail': 'williamacosta@yahoo.com',\n",
              " 'name': 'Robert Rojas',\n",
              " 'residence': '584 Holly Haven Apt. 389\\nWest Annefort, DE 04551',\n",
              " 'sex': 'M',\n",
              " 'ssn': '017-07-6010',\n",
              " 'username': 'scottponce',\n",
              " 'website': ['https://wilson-garcia.biz/',\n",
              "  'http://morris.info/',\n",
              "  'https://www.williams.org/',\n",
              "  'https://www.curtis.biz/']}"
            ]
          },
          "metadata": {},
          "execution_count": 17
        }
      ]
    },
    {
      "cell_type": "markdown",
      "source": [
        "We are gonna create the specific User Data manually step by step"
      ],
      "metadata": {
        "id": "k2RtptfoU-XG"
      }
    },
    {
      "cell_type": "markdown",
      "source": [
        "#User Profile"
      ],
      "metadata": {
        "id": "TMyqS1wUWeR_"
      }
    },
    {
      "cell_type": "code",
      "source": [
        "print(faker.first_name_male())\n",
        "print(faker.last_name())\n",
        "dob = faker.date_of_birth(maximum_age=80, minimum_age=21)\n",
        "print(dob)\n",
        "age_days = (datetime.now().date() - dob)\n",
        "age_days = age_days.days\n",
        "age_years = int(age_days/365)\n",
        "age_months = int((age_days%365)/30)\n",
        "print(age_years)\n",
        "print(age_months)\n",
        "print(faker.phone_number())\n",
        "print(faker.ssn())\n",
        "print(str(uuid.uuid4()))                  # Unique User ID for the Profile\n",
        "print(faker.lexify(text='??????????'))    # 10 Character Family ID\n"
      ],
      "metadata": {
        "id": "FkhvswQ3Papm",
        "colab": {
          "base_uri": "https://localhost:8080/"
        },
        "outputId": "17c86c8a-bcd2-43c0-b776-516e506ec03e"
      },
      "execution_count": null,
      "outputs": [
        {
          "output_type": "stream",
          "name": "stdout",
          "text": [
            "Matthew\n",
            "Gray\n",
            "1970-04-20\n",
            "52\n",
            "4\n",
            "022.276.3069x3531\n",
            "710-64-0224\n",
            "225204b3-6d8e-4f85-99bd-3b4fb6945d33\n",
            "LdpXtVZVOB\n"
          ]
        }
      ]
    },
    {
      "cell_type": "markdown",
      "source": [
        "#Job Specific Info"
      ],
      "metadata": {
        "id": "FTmCOnB7Wrt2"
      }
    },
    {
      "cell_type": "code",
      "source": [
        "print(faker.job())              # Type of Job\n",
        "print(faker.company())          # Name of the Company\n",
        "print(faker.address())          # address of the Company"
      ],
      "metadata": {
        "colab": {
          "base_uri": "https://localhost:8080/"
        },
        "id": "z6a4K68cWEw4",
        "outputId": "4f5148eb-072c-4634-94e1-df174b743317"
      },
      "execution_count": null,
      "outputs": [
        {
          "output_type": "stream",
          "name": "stdout",
          "text": [
            "Plant breeder/geneticist\n",
            "Sullivan-Hall\n",
            "55740 Gonzalez Path Suite 532\n",
            "North Gregoryhaven, NH 70494\n"
          ]
        }
      ]
    },
    {
      "cell_type": "markdown",
      "source": [
        "# Credit Card Info"
      ],
      "metadata": {
        "id": "A0sf3NLPXnxu"
      }
    },
    {
      "cell_type": "markdown",
      "source": [
        "We are selecting any random credit card type provider and then generarting the credit card number based on the choice.\n",
        " And then their \n",
        " Security Code (CVV) and the Expiration Date. "
      ],
      "metadata": {
        "id": "Zaqsw-RVYTck"
      }
    },
    {
      "cell_type": "code",
      "source": [
        "card_types = ['amex', 'diners', 'discover', 'jcb', 'jcb15', 'jcb16', 'maestro', 'mastercard', 'visa', 'visa13', 'visa16', 'visa19']  # available credit card types\n",
        "card_choice = random.choice(card_types)                         # Choosing the paticular credit card type provider\n",
        "card_provider = faker.credit_card_provider(card_choice)\n",
        "print(card_provider)\n",
        "print(faker.credit_card_number(card_choice))        # We are generating the credit card number based on our choice of card\n",
        "print(faker.credit_card_security_code(card_choice))\n",
        "print(faker.credit_card_expire())"
      ],
      "metadata": {
        "colab": {
          "base_uri": "https://localhost:8080/"
        },
        "id": "580fQfOoXwDa",
        "outputId": "ba3b2e0b-db8c-4053-e588-929a3d5e76dd"
      },
      "execution_count": null,
      "outputs": [
        {
          "output_type": "stream",
          "name": "stdout",
          "text": [
            "JCB 15 digit\n",
            "213186081847964\n",
            "811\n",
            "08/22\n"
          ]
        }
      ]
    },
    {
      "cell_type": "markdown",
      "source": [
        "#Income Group"
      ],
      "metadata": {
        "id": "JqIAiNtVucKL"
      }
    },
    {
      "cell_type": "code",
      "source": [
        "income_groups = [40000, 80000, 120000, 160000, 200000, 240000, 270000, 300000]\n",
        "income_choice = random.choice(income_groups)\n",
        "print(income_choice)"
      ],
      "metadata": {
        "colab": {
          "base_uri": "https://localhost:8080/"
        },
        "id": "jTz8XnR1uKzA",
        "outputId": "b20e95b7-ddb3-4756-e727-a5e4128c46c9"
      },
      "execution_count": null,
      "outputs": [
        {
          "output_type": "stream",
          "name": "stdout",
          "text": [
            "200000\n"
          ]
        }
      ]
    },
    {
      "cell_type": "markdown",
      "source": [
        "#Marital Status"
      ],
      "metadata": {
        "id": "Y88rf-Nd31XF"
      }
    },
    {
      "cell_type": "code",
      "source": [
        "family_groups = ['single', 'married']\n",
        "family_choice = random.choice(family_groups)\n",
        "print(family_choice)"
      ],
      "metadata": {
        "colab": {
          "base_uri": "https://localhost:8080/"
        },
        "id": "N3950mQ0wwwK",
        "outputId": "2d6cc9d3-bfe0-4189-f70a-6cc1b314baeb"
      },
      "execution_count": null,
      "outputs": [
        {
          "output_type": "stream",
          "name": "stdout",
          "text": [
            "married\n"
          ]
        }
      ]
    },
    {
      "cell_type": "markdown",
      "source": [
        "Over here in this example we are using Male members as the Main Family Person. So the spouse are definitely going to be female."
      ],
      "metadata": {
        "id": "RpTUwssU4cgC"
      }
    },
    {
      "cell_type": "code",
      "source": [
        "if family_choice == 'married':\n",
        "  print(faker.first_name_female())\n",
        "  print(faker.last_name())\n",
        "  print(faker.date())\n",
        "  print(faker.phone_number())\n",
        "  print(faker.ssn())\n",
        "  print(str(uuid.uuid4()))\n",
        "  print(faker.lexify(text='??????????')) # Family ID"
      ],
      "metadata": {
        "id": "dBfPOf7s4JbB",
        "colab": {
          "base_uri": "https://localhost:8080/"
        },
        "outputId": "94ad80fe-5f0c-47de-a645-31ecad999962"
      },
      "execution_count": null,
      "outputs": [
        {
          "output_type": "stream",
          "name": "stdout",
          "text": [
            "Caitlin\n",
            "Horn\n",
            "1995-09-27\n",
            "+1-045-333-0604x169\n",
            "167-80-4519\n",
            "18e03707-fdb6-4432-8d39-3b8aa6d2b30c\n",
            "UPjGDhFUNJ\n"
          ]
        }
      ]
    },
    {
      "cell_type": "code",
      "source": [
        "if family_choice == 'married':\n",
        "  kids_group = random.randint(0, 4)\n",
        "  print(kids_group)\n",
        "  if kids_group > 0:\n",
        "    for each_kid in range(kids_group):\n",
        "      child_type = random.randint(0, 1)\n",
        "      if child_type == 0: \n",
        "         # male\n",
        "      else:\n",
        "         # female\n",
        "\n",
        "# the entire data generation for the kids details wil be mentioned in '(C)_Consumer_Profile_master_ Data'.          "
      ],
      "metadata": {
        "id": "c5peGpq85Pc3"
      },
      "execution_count": null,
      "outputs": []
    },
    {
      "cell_type": "markdown",
      "source": [
        "#Vehicle Data"
      ],
      "metadata": {
        "id": "K9VobSsg5ZTO"
      }
    },
    {
      "cell_type": "code",
      "source": [
        "!pip install faker_vehicle"
      ],
      "metadata": {
        "colab": {
          "base_uri": "https://localhost:8080/"
        },
        "id": "02wWHuZd5efR",
        "outputId": "b759a706-96aa-4829-988a-5c2e9fdf46ed"
      },
      "execution_count": null,
      "outputs": [
        {
          "output_type": "stream",
          "name": "stdout",
          "text": [
            "Looking in indexes: https://pypi.org/simple, https://us-python.pkg.dev/colab-wheels/public/simple/\n",
            "Collecting faker_vehicle\n",
            "  Downloading faker_vehicle-0.2.0-py2.py3-none-any.whl (162 kB)\n",
            "\u001b[K     |████████████████████████████████| 162 kB 5.2 MB/s \n",
            "\u001b[?25hRequirement already satisfied: faker in /usr/local/lib/python3.7/dist-packages (from faker_vehicle) (13.15.1)\n",
            "Requirement already satisfied: python-dateutil>=2.4 in /usr/local/lib/python3.7/dist-packages (from faker->faker_vehicle) (2.8.2)\n",
            "Requirement already satisfied: typing-extensions>=3.10.0.2 in /usr/local/lib/python3.7/dist-packages (from faker->faker_vehicle) (4.1.1)\n",
            "Requirement already satisfied: six>=1.5 in /usr/local/lib/python3.7/dist-packages (from python-dateutil>=2.4->faker->faker_vehicle) (1.15.0)\n",
            "Installing collected packages: faker-vehicle\n",
            "Successfully installed faker-vehicle-0.2.0\n"
          ]
        }
      ]
    },
    {
      "cell_type": "markdown",
      "source": [
        "faker_vehicle is a provider for the Faker Python package.\n",
        "\n",
        "It provides vehicle and machinery related fake data for testing purposes:\n",
        "\n",
        "Vehicle Make\n",
        "\n",
        "Vehicle Model\n",
        "\n",
        "Vehicle Make / Model\n",
        "\n",
        "Vehicle Make / Model / Year\n",
        "\n",
        "Vehicle Make / Model / Category\n",
        "\n",
        "Vehicle Year\n",
        "\n",
        "Vehicle Object (you can format)\n",
        "\n",
        "Machine Make\n",
        "\n",
        "Machine Model\n",
        "\n",
        "Machine Make / Model\n",
        "\n",
        "Machine Make / Model / Year\n",
        "\n",
        "Machine Make / Model / Category\n",
        "\n",
        "Machine Year\n",
        "\n",
        "Machine Object (you can format)\n",
        "\n",
        "\n",
        "Add the VehicleProvider to your Faker instance:\n",
        "\n",
        "from faker import Faker\n",
        "from faker_vehicle import VehicleProvider"
      ],
      "metadata": {
        "id": "wQRaITGKjUwV"
      }
    },
    {
      "cell_type": "code",
      "source": [
        "from faker_vehicle import VehicleProvider\n",
        "faker.add_provider(VehicleProvider)"
      ],
      "metadata": {
        "id": "ZIAhOQ945j3Z"
      },
      "execution_count": null,
      "outputs": []
    },
    {
      "cell_type": "code",
      "source": [
        "faker.vehicle_object()"
      ],
      "metadata": {
        "id": "-b1TBEvB5vCO",
        "outputId": "630f56f9-4f0e-4205-9f8c-f551071c28c6",
        "colab": {
          "base_uri": "https://localhost:8080/"
        }
      },
      "execution_count": null,
      "outputs": [
        {
          "output_type": "execute_result",
          "data": {
            "text/plain": [
              "{'Category': 'SUV', 'Make': 'Lexus', 'Model': 'RX', 'Year': 2002}"
            ]
          },
          "metadata": {},
          "execution_count": 28
        }
      ]
    },
    {
      "cell_type": "markdown",
      "source": [
        "#Address or Location Data:"
      ],
      "metadata": {
        "id": "C86O1S8upAAl"
      }
    },
    {
      "cell_type": "markdown",
      "source": [
        "We need to generate a very Realistic User Address Data (Location Data) within the Unied States Territory.\n",
        "\n",
        "Using WALMART Location Geographical Data (Longitude and Latitude) we can generate the User Address within the close proximitiy in the same city, zipcode where the store is."
      ],
      "metadata": {
        "id": "qDjMWDsfpFOe"
      }
    },
    {
      "cell_type": "code",
      "source": [
        "df = pd.read_csv('https://raw.githubusercontent.com/KislayKaran/Walmart_Supermarket/main/Required_CSV_files/02_c_selected_stores_(created_csv).csv')"
      ],
      "metadata": {
        "id": "XlJ3yUjL5LwV"
      },
      "execution_count": null,
      "outputs": []
    },
    {
      "cell_type": "code",
      "source": [
        "df.head()"
      ],
      "metadata": {
        "colab": {
          "base_uri": "https://localhost:8080/",
          "height": 206
        },
        "id": "6xfiAM8T5To1",
        "outputId": "8797f801-17b9-475a-f54c-62bebe28612d"
      },
      "execution_count": null,
      "outputs": [
        {
          "output_type": "execute_result",
          "data": {
            "text/plain": [
              "        city state  zip_code   latitude   longitude\n",
              "0  Abbeville    LA     70510  29.972971  -92.095051\n",
              "1   Aberdeen    MD     21001  39.494980  -76.177507\n",
              "2   Aberdeen    NC     28315  35.159693  -79.424516\n",
              "3   Aberdeen    SD     57401  45.456105  -98.436532\n",
              "4   Aberdeen    WA     98520  46.975337 -123.806587"
            ],
            "text/html": [
              "\n",
              "  <div id=\"df-f5e4d0f1-0ddf-4acc-8a29-7fb973f7d44c\">\n",
              "    <div class=\"colab-df-container\">\n",
              "      <div>\n",
              "<style scoped>\n",
              "    .dataframe tbody tr th:only-of-type {\n",
              "        vertical-align: middle;\n",
              "    }\n",
              "\n",
              "    .dataframe tbody tr th {\n",
              "        vertical-align: top;\n",
              "    }\n",
              "\n",
              "    .dataframe thead th {\n",
              "        text-align: right;\n",
              "    }\n",
              "</style>\n",
              "<table border=\"1\" class=\"dataframe\">\n",
              "  <thead>\n",
              "    <tr style=\"text-align: right;\">\n",
              "      <th></th>\n",
              "      <th>city</th>\n",
              "      <th>state</th>\n",
              "      <th>zip_code</th>\n",
              "      <th>latitude</th>\n",
              "      <th>longitude</th>\n",
              "    </tr>\n",
              "  </thead>\n",
              "  <tbody>\n",
              "    <tr>\n",
              "      <th>0</th>\n",
              "      <td>Abbeville</td>\n",
              "      <td>LA</td>\n",
              "      <td>70510</td>\n",
              "      <td>29.972971</td>\n",
              "      <td>-92.095051</td>\n",
              "    </tr>\n",
              "    <tr>\n",
              "      <th>1</th>\n",
              "      <td>Aberdeen</td>\n",
              "      <td>MD</td>\n",
              "      <td>21001</td>\n",
              "      <td>39.494980</td>\n",
              "      <td>-76.177507</td>\n",
              "    </tr>\n",
              "    <tr>\n",
              "      <th>2</th>\n",
              "      <td>Aberdeen</td>\n",
              "      <td>NC</td>\n",
              "      <td>28315</td>\n",
              "      <td>35.159693</td>\n",
              "      <td>-79.424516</td>\n",
              "    </tr>\n",
              "    <tr>\n",
              "      <th>3</th>\n",
              "      <td>Aberdeen</td>\n",
              "      <td>SD</td>\n",
              "      <td>57401</td>\n",
              "      <td>45.456105</td>\n",
              "      <td>-98.436532</td>\n",
              "    </tr>\n",
              "    <tr>\n",
              "      <th>4</th>\n",
              "      <td>Aberdeen</td>\n",
              "      <td>WA</td>\n",
              "      <td>98520</td>\n",
              "      <td>46.975337</td>\n",
              "      <td>-123.806587</td>\n",
              "    </tr>\n",
              "  </tbody>\n",
              "</table>\n",
              "</div>\n",
              "      <button class=\"colab-df-convert\" onclick=\"convertToInteractive('df-f5e4d0f1-0ddf-4acc-8a29-7fb973f7d44c')\"\n",
              "              title=\"Convert this dataframe to an interactive table.\"\n",
              "              style=\"display:none;\">\n",
              "        \n",
              "  <svg xmlns=\"http://www.w3.org/2000/svg\" height=\"24px\"viewBox=\"0 0 24 24\"\n",
              "       width=\"24px\">\n",
              "    <path d=\"M0 0h24v24H0V0z\" fill=\"none\"/>\n",
              "    <path d=\"M18.56 5.44l.94 2.06.94-2.06 2.06-.94-2.06-.94-.94-2.06-.94 2.06-2.06.94zm-11 1L8.5 8.5l.94-2.06 2.06-.94-2.06-.94L8.5 2.5l-.94 2.06-2.06.94zm10 10l.94 2.06.94-2.06 2.06-.94-2.06-.94-.94-2.06-.94 2.06-2.06.94z\"/><path d=\"M17.41 7.96l-1.37-1.37c-.4-.4-.92-.59-1.43-.59-.52 0-1.04.2-1.43.59L10.3 9.45l-7.72 7.72c-.78.78-.78 2.05 0 2.83L4 21.41c.39.39.9.59 1.41.59.51 0 1.02-.2 1.41-.59l7.78-7.78 2.81-2.81c.8-.78.8-2.07 0-2.86zM5.41 20L4 18.59l7.72-7.72 1.47 1.35L5.41 20z\"/>\n",
              "  </svg>\n",
              "      </button>\n",
              "      \n",
              "  <style>\n",
              "    .colab-df-container {\n",
              "      display:flex;\n",
              "      flex-wrap:wrap;\n",
              "      gap: 12px;\n",
              "    }\n",
              "\n",
              "    .colab-df-convert {\n",
              "      background-color: #E8F0FE;\n",
              "      border: none;\n",
              "      border-radius: 50%;\n",
              "      cursor: pointer;\n",
              "      display: none;\n",
              "      fill: #1967D2;\n",
              "      height: 32px;\n",
              "      padding: 0 0 0 0;\n",
              "      width: 32px;\n",
              "    }\n",
              "\n",
              "    .colab-df-convert:hover {\n",
              "      background-color: #E2EBFA;\n",
              "      box-shadow: 0px 1px 2px rgba(60, 64, 67, 0.3), 0px 1px 3px 1px rgba(60, 64, 67, 0.15);\n",
              "      fill: #174EA6;\n",
              "    }\n",
              "\n",
              "    [theme=dark] .colab-df-convert {\n",
              "      background-color: #3B4455;\n",
              "      fill: #D2E3FC;\n",
              "    }\n",
              "\n",
              "    [theme=dark] .colab-df-convert:hover {\n",
              "      background-color: #434B5C;\n",
              "      box-shadow: 0px 1px 3px 1px rgba(0, 0, 0, 0.15);\n",
              "      filter: drop-shadow(0px 1px 2px rgba(0, 0, 0, 0.3));\n",
              "      fill: #FFFFFF;\n",
              "    }\n",
              "  </style>\n",
              "\n",
              "      <script>\n",
              "        const buttonEl =\n",
              "          document.querySelector('#df-f5e4d0f1-0ddf-4acc-8a29-7fb973f7d44c button.colab-df-convert');\n",
              "        buttonEl.style.display =\n",
              "          google.colab.kernel.accessAllowed ? 'block' : 'none';\n",
              "\n",
              "        async function convertToInteractive(key) {\n",
              "          const element = document.querySelector('#df-f5e4d0f1-0ddf-4acc-8a29-7fb973f7d44c');\n",
              "          const dataTable =\n",
              "            await google.colab.kernel.invokeFunction('convertToInteractive',\n",
              "                                                     [key], {});\n",
              "          if (!dataTable) return;\n",
              "\n",
              "          const docLinkHtml = 'Like what you see? Visit the ' +\n",
              "            '<a target=\"_blank\" href=https://colab.research.google.com/notebooks/data_table.ipynb>data table notebook</a>'\n",
              "            + ' to learn more about interactive tables.';\n",
              "          element.innerHTML = '';\n",
              "          dataTable['output_type'] = 'display_data';\n",
              "          await google.colab.output.renderOutput(dataTable, element);\n",
              "          const docLink = document.createElement('div');\n",
              "          docLink.innerHTML = docLinkHtml;\n",
              "          element.appendChild(docLink);\n",
              "        }\n",
              "      </script>\n",
              "    </div>\n",
              "  </div>\n",
              "  "
            ]
          },
          "metadata": {},
          "execution_count": 31
        }
      ]
    },
    {
      "cell_type": "code",
      "source": [
        "PRECISION = 1               "
      ],
      "metadata": {
        "id": "fXm_JSo6AADc"
      },
      "execution_count": null,
      "outputs": []
    },
    {
      "cell_type": "markdown",
      "source": [
        "We are considering from 6 decimal places\t0.000001 to  0.1 only 1 decimal place bcoz the precision of\t0.000001 6 decimal degrees gives us\tthe range in some 44 mm to 110 mm. And the precision of 0.1 decimal degree gives us the range in 4 km to 11 km in radius depending upon the Latitude line"
      ],
      "metadata": {
        "id": "G4BH9FIMBHkx"
      }
    },
    {
      "cell_type": "code",
      "source": [
        "df.latitude = df.latitude.round(PRECISION)\n",
        "df.longitude = df.longitude.round(PRECISION)"
      ],
      "metadata": {
        "id": "iamJcg5NAALe"
      },
      "execution_count": null,
      "outputs": []
    },
    {
      "cell_type": "markdown",
      "source": [
        "If we  make our Precision to 1, then this makes our User Address in the close proximity in the Neighbourhood of the Walmart Store Location."
      ],
      "metadata": {
        "id": "6eU7oTiAFaLA"
      }
    },
    {
      "cell_type": "code",
      "source": [
        "df.to_csv('04_c_wm_stores_single_precision_(created_csv).csv')"
      ],
      "metadata": {
        "id": "6Yp1e1L2NVdz"
      },
      "execution_count": null,
      "outputs": []
    },
    {
      "cell_type": "code",
      "source": [
        "df.head()"
      ],
      "metadata": {
        "colab": {
          "base_uri": "https://localhost:8080/",
          "height": 206
        },
        "id": "7i8ueSVv5TzI",
        "outputId": "2333ee17-5716-4d38-a40d-1380580d5976"
      },
      "execution_count": null,
      "outputs": [
        {
          "output_type": "execute_result",
          "data": {
            "text/plain": [
              "        city state  zip_code  latitude  longitude\n",
              "0  Abbeville    LA     70510      30.0      -92.1\n",
              "1   Aberdeen    MD     21001      39.5      -76.2\n",
              "2   Aberdeen    NC     28315      35.2      -79.4\n",
              "3   Aberdeen    SD     57401      45.5      -98.4\n",
              "4   Aberdeen    WA     98520      47.0     -123.8"
            ],
            "text/html": [
              "\n",
              "  <div id=\"df-7f4f14cc-5916-4f01-bc31-a582d9524fd0\">\n",
              "    <div class=\"colab-df-container\">\n",
              "      <div>\n",
              "<style scoped>\n",
              "    .dataframe tbody tr th:only-of-type {\n",
              "        vertical-align: middle;\n",
              "    }\n",
              "\n",
              "    .dataframe tbody tr th {\n",
              "        vertical-align: top;\n",
              "    }\n",
              "\n",
              "    .dataframe thead th {\n",
              "        text-align: right;\n",
              "    }\n",
              "</style>\n",
              "<table border=\"1\" class=\"dataframe\">\n",
              "  <thead>\n",
              "    <tr style=\"text-align: right;\">\n",
              "      <th></th>\n",
              "      <th>city</th>\n",
              "      <th>state</th>\n",
              "      <th>zip_code</th>\n",
              "      <th>latitude</th>\n",
              "      <th>longitude</th>\n",
              "    </tr>\n",
              "  </thead>\n",
              "  <tbody>\n",
              "    <tr>\n",
              "      <th>0</th>\n",
              "      <td>Abbeville</td>\n",
              "      <td>LA</td>\n",
              "      <td>70510</td>\n",
              "      <td>30.0</td>\n",
              "      <td>-92.1</td>\n",
              "    </tr>\n",
              "    <tr>\n",
              "      <th>1</th>\n",
              "      <td>Aberdeen</td>\n",
              "      <td>MD</td>\n",
              "      <td>21001</td>\n",
              "      <td>39.5</td>\n",
              "      <td>-76.2</td>\n",
              "    </tr>\n",
              "    <tr>\n",
              "      <th>2</th>\n",
              "      <td>Aberdeen</td>\n",
              "      <td>NC</td>\n",
              "      <td>28315</td>\n",
              "      <td>35.2</td>\n",
              "      <td>-79.4</td>\n",
              "    </tr>\n",
              "    <tr>\n",
              "      <th>3</th>\n",
              "      <td>Aberdeen</td>\n",
              "      <td>SD</td>\n",
              "      <td>57401</td>\n",
              "      <td>45.5</td>\n",
              "      <td>-98.4</td>\n",
              "    </tr>\n",
              "    <tr>\n",
              "      <th>4</th>\n",
              "      <td>Aberdeen</td>\n",
              "      <td>WA</td>\n",
              "      <td>98520</td>\n",
              "      <td>47.0</td>\n",
              "      <td>-123.8</td>\n",
              "    </tr>\n",
              "  </tbody>\n",
              "</table>\n",
              "</div>\n",
              "      <button class=\"colab-df-convert\" onclick=\"convertToInteractive('df-7f4f14cc-5916-4f01-bc31-a582d9524fd0')\"\n",
              "              title=\"Convert this dataframe to an interactive table.\"\n",
              "              style=\"display:none;\">\n",
              "        \n",
              "  <svg xmlns=\"http://www.w3.org/2000/svg\" height=\"24px\"viewBox=\"0 0 24 24\"\n",
              "       width=\"24px\">\n",
              "    <path d=\"M0 0h24v24H0V0z\" fill=\"none\"/>\n",
              "    <path d=\"M18.56 5.44l.94 2.06.94-2.06 2.06-.94-2.06-.94-.94-2.06-.94 2.06-2.06.94zm-11 1L8.5 8.5l.94-2.06 2.06-.94-2.06-.94L8.5 2.5l-.94 2.06-2.06.94zm10 10l.94 2.06.94-2.06 2.06-.94-2.06-.94-.94-2.06-.94 2.06-2.06.94z\"/><path d=\"M17.41 7.96l-1.37-1.37c-.4-.4-.92-.59-1.43-.59-.52 0-1.04.2-1.43.59L10.3 9.45l-7.72 7.72c-.78.78-.78 2.05 0 2.83L4 21.41c.39.39.9.59 1.41.59.51 0 1.02-.2 1.41-.59l7.78-7.78 2.81-2.81c.8-.78.8-2.07 0-2.86zM5.41 20L4 18.59l7.72-7.72 1.47 1.35L5.41 20z\"/>\n",
              "  </svg>\n",
              "      </button>\n",
              "      \n",
              "  <style>\n",
              "    .colab-df-container {\n",
              "      display:flex;\n",
              "      flex-wrap:wrap;\n",
              "      gap: 12px;\n",
              "    }\n",
              "\n",
              "    .colab-df-convert {\n",
              "      background-color: #E8F0FE;\n",
              "      border: none;\n",
              "      border-radius: 50%;\n",
              "      cursor: pointer;\n",
              "      display: none;\n",
              "      fill: #1967D2;\n",
              "      height: 32px;\n",
              "      padding: 0 0 0 0;\n",
              "      width: 32px;\n",
              "    }\n",
              "\n",
              "    .colab-df-convert:hover {\n",
              "      background-color: #E2EBFA;\n",
              "      box-shadow: 0px 1px 2px rgba(60, 64, 67, 0.3), 0px 1px 3px 1px rgba(60, 64, 67, 0.15);\n",
              "      fill: #174EA6;\n",
              "    }\n",
              "\n",
              "    [theme=dark] .colab-df-convert {\n",
              "      background-color: #3B4455;\n",
              "      fill: #D2E3FC;\n",
              "    }\n",
              "\n",
              "    [theme=dark] .colab-df-convert:hover {\n",
              "      background-color: #434B5C;\n",
              "      box-shadow: 0px 1px 3px 1px rgba(0, 0, 0, 0.15);\n",
              "      filter: drop-shadow(0px 1px 2px rgba(0, 0, 0, 0.3));\n",
              "      fill: #FFFFFF;\n",
              "    }\n",
              "  </style>\n",
              "\n",
              "      <script>\n",
              "        const buttonEl =\n",
              "          document.querySelector('#df-7f4f14cc-5916-4f01-bc31-a582d9524fd0 button.colab-df-convert');\n",
              "        buttonEl.style.display =\n",
              "          google.colab.kernel.accessAllowed ? 'block' : 'none';\n",
              "\n",
              "        async function convertToInteractive(key) {\n",
              "          const element = document.querySelector('#df-7f4f14cc-5916-4f01-bc31-a582d9524fd0');\n",
              "          const dataTable =\n",
              "            await google.colab.kernel.invokeFunction('convertToInteractive',\n",
              "                                                     [key], {});\n",
              "          if (!dataTable) return;\n",
              "\n",
              "          const docLinkHtml = 'Like what you see? Visit the ' +\n",
              "            '<a target=\"_blank\" href=https://colab.research.google.com/notebooks/data_table.ipynb>data table notebook</a>'\n",
              "            + ' to learn more about interactive tables.';\n",
              "          element.innerHTML = '';\n",
              "          dataTable['output_type'] = 'display_data';\n",
              "          await google.colab.output.renderOutput(dataTable, element);\n",
              "          const docLink = document.createElement('div');\n",
              "          docLink.innerHTML = docLinkHtml;\n",
              "          element.appendChild(docLink);\n",
              "        }\n",
              "      </script>\n",
              "    </div>\n",
              "  </div>\n",
              "  "
            ]
          },
          "metadata": {},
          "execution_count": 35
        }
      ]
    },
    {
      "cell_type": "code",
      "source": [
        "df_local = df[df['state'] == 'CA']\n",
        "df_local"
      ],
      "metadata": {
        "colab": {
          "base_uri": "https://localhost:8080/",
          "height": 424
        },
        "id": "u2mQuMRgOWkd",
        "outputId": "1aed9662-4dcf-446b-9b17-9f4326480670"
      },
      "execution_count": null,
      "outputs": [
        {
          "output_type": "execute_result",
          "data": {
            "text/plain": [
              "                 city state  zip_code  latitude  longitude\n",
              "87    American Canyon    CA     94503      38.2     -122.3\n",
              "99            Anaheim    CA     92801      33.8     -118.0\n",
              "100           Anaheim    CA     92801      33.8     -117.9\n",
              "101           Anaheim    CA     92801      33.9     -117.9\n",
              "102           Anaheim    CA     92805      33.8     -117.9\n",
              "...               ...   ...       ...       ...        ...\n",
              "4602         Woodland    CA     95776      38.7     -121.8\n",
              "4603         Woodland    CA     95776      38.7     -121.7\n",
              "4637            Yreka    CA     96097      41.7     -122.6\n",
              "4638        Yuba City    CA     95993      39.1     -121.7\n",
              "4639     Yucca Valley    CA     92284      34.1     -116.4\n",
              "\n",
              "[281 rows x 5 columns]"
            ],
            "text/html": [
              "\n",
              "  <div id=\"df-cb334ad1-62b4-470a-adb5-6e0df6d5d0c4\">\n",
              "    <div class=\"colab-df-container\">\n",
              "      <div>\n",
              "<style scoped>\n",
              "    .dataframe tbody tr th:only-of-type {\n",
              "        vertical-align: middle;\n",
              "    }\n",
              "\n",
              "    .dataframe tbody tr th {\n",
              "        vertical-align: top;\n",
              "    }\n",
              "\n",
              "    .dataframe thead th {\n",
              "        text-align: right;\n",
              "    }\n",
              "</style>\n",
              "<table border=\"1\" class=\"dataframe\">\n",
              "  <thead>\n",
              "    <tr style=\"text-align: right;\">\n",
              "      <th></th>\n",
              "      <th>city</th>\n",
              "      <th>state</th>\n",
              "      <th>zip_code</th>\n",
              "      <th>latitude</th>\n",
              "      <th>longitude</th>\n",
              "    </tr>\n",
              "  </thead>\n",
              "  <tbody>\n",
              "    <tr>\n",
              "      <th>87</th>\n",
              "      <td>American Canyon</td>\n",
              "      <td>CA</td>\n",
              "      <td>94503</td>\n",
              "      <td>38.2</td>\n",
              "      <td>-122.3</td>\n",
              "    </tr>\n",
              "    <tr>\n",
              "      <th>99</th>\n",
              "      <td>Anaheim</td>\n",
              "      <td>CA</td>\n",
              "      <td>92801</td>\n",
              "      <td>33.8</td>\n",
              "      <td>-118.0</td>\n",
              "    </tr>\n",
              "    <tr>\n",
              "      <th>100</th>\n",
              "      <td>Anaheim</td>\n",
              "      <td>CA</td>\n",
              "      <td>92801</td>\n",
              "      <td>33.8</td>\n",
              "      <td>-117.9</td>\n",
              "    </tr>\n",
              "    <tr>\n",
              "      <th>101</th>\n",
              "      <td>Anaheim</td>\n",
              "      <td>CA</td>\n",
              "      <td>92801</td>\n",
              "      <td>33.9</td>\n",
              "      <td>-117.9</td>\n",
              "    </tr>\n",
              "    <tr>\n",
              "      <th>102</th>\n",
              "      <td>Anaheim</td>\n",
              "      <td>CA</td>\n",
              "      <td>92805</td>\n",
              "      <td>33.8</td>\n",
              "      <td>-117.9</td>\n",
              "    </tr>\n",
              "    <tr>\n",
              "      <th>...</th>\n",
              "      <td>...</td>\n",
              "      <td>...</td>\n",
              "      <td>...</td>\n",
              "      <td>...</td>\n",
              "      <td>...</td>\n",
              "    </tr>\n",
              "    <tr>\n",
              "      <th>4602</th>\n",
              "      <td>Woodland</td>\n",
              "      <td>CA</td>\n",
              "      <td>95776</td>\n",
              "      <td>38.7</td>\n",
              "      <td>-121.8</td>\n",
              "    </tr>\n",
              "    <tr>\n",
              "      <th>4603</th>\n",
              "      <td>Woodland</td>\n",
              "      <td>CA</td>\n",
              "      <td>95776</td>\n",
              "      <td>38.7</td>\n",
              "      <td>-121.7</td>\n",
              "    </tr>\n",
              "    <tr>\n",
              "      <th>4637</th>\n",
              "      <td>Yreka</td>\n",
              "      <td>CA</td>\n",
              "      <td>96097</td>\n",
              "      <td>41.7</td>\n",
              "      <td>-122.6</td>\n",
              "    </tr>\n",
              "    <tr>\n",
              "      <th>4638</th>\n",
              "      <td>Yuba City</td>\n",
              "      <td>CA</td>\n",
              "      <td>95993</td>\n",
              "      <td>39.1</td>\n",
              "      <td>-121.7</td>\n",
              "    </tr>\n",
              "    <tr>\n",
              "      <th>4639</th>\n",
              "      <td>Yucca Valley</td>\n",
              "      <td>CA</td>\n",
              "      <td>92284</td>\n",
              "      <td>34.1</td>\n",
              "      <td>-116.4</td>\n",
              "    </tr>\n",
              "  </tbody>\n",
              "</table>\n",
              "<p>281 rows × 5 columns</p>\n",
              "</div>\n",
              "      <button class=\"colab-df-convert\" onclick=\"convertToInteractive('df-cb334ad1-62b4-470a-adb5-6e0df6d5d0c4')\"\n",
              "              title=\"Convert this dataframe to an interactive table.\"\n",
              "              style=\"display:none;\">\n",
              "        \n",
              "  <svg xmlns=\"http://www.w3.org/2000/svg\" height=\"24px\"viewBox=\"0 0 24 24\"\n",
              "       width=\"24px\">\n",
              "    <path d=\"M0 0h24v24H0V0z\" fill=\"none\"/>\n",
              "    <path d=\"M18.56 5.44l.94 2.06.94-2.06 2.06-.94-2.06-.94-.94-2.06-.94 2.06-2.06.94zm-11 1L8.5 8.5l.94-2.06 2.06-.94-2.06-.94L8.5 2.5l-.94 2.06-2.06.94zm10 10l.94 2.06.94-2.06 2.06-.94-2.06-.94-.94-2.06-.94 2.06-2.06.94z\"/><path d=\"M17.41 7.96l-1.37-1.37c-.4-.4-.92-.59-1.43-.59-.52 0-1.04.2-1.43.59L10.3 9.45l-7.72 7.72c-.78.78-.78 2.05 0 2.83L4 21.41c.39.39.9.59 1.41.59.51 0 1.02-.2 1.41-.59l7.78-7.78 2.81-2.81c.8-.78.8-2.07 0-2.86zM5.41 20L4 18.59l7.72-7.72 1.47 1.35L5.41 20z\"/>\n",
              "  </svg>\n",
              "      </button>\n",
              "      \n",
              "  <style>\n",
              "    .colab-df-container {\n",
              "      display:flex;\n",
              "      flex-wrap:wrap;\n",
              "      gap: 12px;\n",
              "    }\n",
              "\n",
              "    .colab-df-convert {\n",
              "      background-color: #E8F0FE;\n",
              "      border: none;\n",
              "      border-radius: 50%;\n",
              "      cursor: pointer;\n",
              "      display: none;\n",
              "      fill: #1967D2;\n",
              "      height: 32px;\n",
              "      padding: 0 0 0 0;\n",
              "      width: 32px;\n",
              "    }\n",
              "\n",
              "    .colab-df-convert:hover {\n",
              "      background-color: #E2EBFA;\n",
              "      box-shadow: 0px 1px 2px rgba(60, 64, 67, 0.3), 0px 1px 3px 1px rgba(60, 64, 67, 0.15);\n",
              "      fill: #174EA6;\n",
              "    }\n",
              "\n",
              "    [theme=dark] .colab-df-convert {\n",
              "      background-color: #3B4455;\n",
              "      fill: #D2E3FC;\n",
              "    }\n",
              "\n",
              "    [theme=dark] .colab-df-convert:hover {\n",
              "      background-color: #434B5C;\n",
              "      box-shadow: 0px 1px 3px 1px rgba(0, 0, 0, 0.15);\n",
              "      filter: drop-shadow(0px 1px 2px rgba(0, 0, 0, 0.3));\n",
              "      fill: #FFFFFF;\n",
              "    }\n",
              "  </style>\n",
              "\n",
              "      <script>\n",
              "        const buttonEl =\n",
              "          document.querySelector('#df-cb334ad1-62b4-470a-adb5-6e0df6d5d0c4 button.colab-df-convert');\n",
              "        buttonEl.style.display =\n",
              "          google.colab.kernel.accessAllowed ? 'block' : 'none';\n",
              "\n",
              "        async function convertToInteractive(key) {\n",
              "          const element = document.querySelector('#df-cb334ad1-62b4-470a-adb5-6e0df6d5d0c4');\n",
              "          const dataTable =\n",
              "            await google.colab.kernel.invokeFunction('convertToInteractive',\n",
              "                                                     [key], {});\n",
              "          if (!dataTable) return;\n",
              "\n",
              "          const docLinkHtml = 'Like what you see? Visit the ' +\n",
              "            '<a target=\"_blank\" href=https://colab.research.google.com/notebooks/data_table.ipynb>data table notebook</a>'\n",
              "            + ' to learn more about interactive tables.';\n",
              "          element.innerHTML = '';\n",
              "          dataTable['output_type'] = 'display_data';\n",
              "          await google.colab.output.renderOutput(dataTable, element);\n",
              "          const docLink = document.createElement('div');\n",
              "          docLink.innerHTML = docLinkHtml;\n",
              "          element.appendChild(docLink);\n",
              "        }\n",
              "      </script>\n",
              "    </div>\n",
              "  </div>\n",
              "  "
            ]
          },
          "metadata": {},
          "execution_count": 36
        }
      ]
    },
    {
      "cell_type": "code",
      "source": [
        "df.sample(1).to_dict(orient='record')[0]"
      ],
      "metadata": {
        "colab": {
          "base_uri": "https://localhost:8080/"
        },
        "id": "0iCgVF5tdMxz",
        "outputId": "9a0ddfe9-6ee5-42a8-e653-74c36513df86"
      },
      "execution_count": null,
      "outputs": [
        {
          "output_type": "stream",
          "name": "stderr",
          "text": [
            "/usr/local/lib/python3.7/dist-packages/ipykernel_launcher.py:1: FutureWarning: Using short name for 'orient' is deprecated. Only the options: ('dict', list, 'series', 'split', 'records', 'index') will be used in a future version. Use one of the above to silence this warning.\n",
            "  \"\"\"Entry point for launching an IPython kernel.\n"
          ]
        },
        {
          "output_type": "execute_result",
          "data": {
            "text/plain": [
              "{'city': 'Naples',\n",
              " 'latitude': 26.3,\n",
              " 'longitude': -81.8,\n",
              " 'state': 'FL',\n",
              " 'zip_code': 34110}"
            ]
          },
          "metadata": {},
          "execution_count": 37
        }
      ]
    },
    {
      "cell_type": "markdown",
      "source": [
        "Creating the 'Street Addres's of the User with the help of  'faker'. \n",
        "\n",
        "Selecting a random location at a time and getting the 'State', 'Zipcode'  the 'Latitude' and 'Longitude' added along with it."
      ],
      "metadata": {
        "id": "XFvq6l7tkGVD"
      }
    },
    {
      "cell_type": "markdown",
      "source": [
        "Now we gonna add random 5 digits in the Decimal Places of the Longitude and Latitude. \n",
        "\n",
        "Adding the 6 digit random values b/w 0.01 to 0.09 without changing the 1st place after the decimal point."
      ],
      "metadata": {
        "id": "M6bzHHy7kCUy"
      }
    },
    {
      "cell_type": "code",
      "source": [
        "print(\"Street Address: \" +faker.street_address())\n",
        "selected_location = df.sample(1).to_dict(orient='records')[0]\n",
        "city = selected_location['city']\n",
        "state = selected_location['state']\n",
        "zip_code = selected_location['zip_code']\n",
        "print(\"City: \" +city)\n",
        "print(\"State: \" +state)\n",
        "print(\"Zip Code: \" + str(zip_code))\n",
        "latitude = selected_location['latitude']\n",
        "longitude = selected_location['longitude']\n",
        "print(\"latitude : \" + str(latitude) + ' longitude: ' + str(longitude))\n",
        "\n",
        "store_data = {'latitude': latitude, 'longitude': longitude, 'count': 1}\n",
        "\n",
        "random_6_digits_float = round(random.uniform(0.01, 0.09), 6)    \n",
        "#print(random_6_digits_float)\n",
        "\n",
        "if latitude > 0:\n",
        "  latitude = latitude + random_6_digits_float\n",
        "else:\n",
        "  latitude = latitude - random_6_digits_float\n",
        "latitude = round(latitude,6)\n",
        "\n",
        "\n",
        "random_6_digits_float = round(random.uniform(0.01, 0.09), 6)\n",
        "\n",
        "if longitude > 0:\n",
        "  longitude = longitude + random_6_digits_float\n",
        "else:\n",
        "  longitude = longitude - random_6_digits_float\n",
        "longitude = round(longitude,6)\n",
        "print(\"latitude : \" + str(latitude) + ' longitude: ' + str(longitude))\n",
        "\n",
        "profile_data = {'latitude': latitude, 'longitude': longitude, 'count': 1}\n",
        "\n"
      ],
      "metadata": {
        "colab": {
          "base_uri": "https://localhost:8080/"
        },
        "id": "3ChaRcyvdVow",
        "outputId": "1ecc82e8-c533-457f-970c-b12c316836c2"
      },
      "execution_count": null,
      "outputs": [
        {
          "output_type": "stream",
          "name": "stdout",
          "text": [
            "Street Address: 9314 Lopez Mall Apt. 894\n",
            "City: Siloam Springs\n",
            "State: AR\n",
            "Zip Code: 72761\n",
            "latitude : 36.2 longitude: -94.6\n",
            "latitude : 36.279299 longitude: -94.631628\n"
          ]
        }
      ]
    },
    {
      "cell_type": "markdown",
      "source": [
        "#Showing Walmart and User Address in Map"
      ],
      "metadata": {
        "id": "NW_qeDSwLz__"
      }
    },
    {
      "cell_type": "markdown",
      "source": [
        "We will be taking together both 'store_data' and 'profile_data' into a Data Frame named as 'all_store'"
      ],
      "metadata": {
        "id": "yQ7KAx4wxoZr"
      }
    },
    {
      "cell_type": "markdown",
      "source": [
        "Also Showing with an example how far is the User Address from the Walmart Store Location"
      ],
      "metadata": {
        "id": "ftz6mLJeMjtY"
      }
    },
    {
      "cell_type": "code",
      "source": [
        "all_stores = []\n",
        "all_stores.append(store_data)\n",
        "all_stores.append(profile_data)"
      ],
      "metadata": {
        "id": "ae_IRnUm8J04"
      },
      "execution_count": null,
      "outputs": []
    },
    {
      "cell_type": "code",
      "source": [
        "all_stores"
      ],
      "metadata": {
        "colab": {
          "base_uri": "https://localhost:8080/"
        },
        "id": "cslK6s_b2C_n",
        "outputId": "e28bafac-afcd-486d-c902-7b87bdbc4cb1"
      },
      "execution_count": null,
      "outputs": [
        {
          "output_type": "execute_result",
          "data": {
            "text/plain": [
              "[{'count': 1, 'latitude': 36.2, 'longitude': -94.6},\n",
              " {'count': 1, 'latitude': 36.279299, 'longitude': -94.631628}]"
            ]
          },
          "metadata": {},
          "execution_count": 40
        }
      ]
    },
    {
      "cell_type": "code",
      "source": [
        "all_stores = pd.DataFrame(all_stores)\n",
        "all_stores"
      ],
      "metadata": {
        "colab": {
          "base_uri": "https://localhost:8080/",
          "height": 112
        },
        "id": "SoBGKF542Jyn",
        "outputId": "e46b289a-756a-4cc4-f05d-990d7899b861"
      },
      "execution_count": null,
      "outputs": [
        {
          "output_type": "execute_result",
          "data": {
            "text/plain": [
              "    latitude  longitude  count\n",
              "0  36.200000 -94.600000      1\n",
              "1  36.279299 -94.631628      1"
            ],
            "text/html": [
              "\n",
              "  <div id=\"df-daf9bb05-f995-455d-828d-6e491a6d6cdb\">\n",
              "    <div class=\"colab-df-container\">\n",
              "      <div>\n",
              "<style scoped>\n",
              "    .dataframe tbody tr th:only-of-type {\n",
              "        vertical-align: middle;\n",
              "    }\n",
              "\n",
              "    .dataframe tbody tr th {\n",
              "        vertical-align: top;\n",
              "    }\n",
              "\n",
              "    .dataframe thead th {\n",
              "        text-align: right;\n",
              "    }\n",
              "</style>\n",
              "<table border=\"1\" class=\"dataframe\">\n",
              "  <thead>\n",
              "    <tr style=\"text-align: right;\">\n",
              "      <th></th>\n",
              "      <th>latitude</th>\n",
              "      <th>longitude</th>\n",
              "      <th>count</th>\n",
              "    </tr>\n",
              "  </thead>\n",
              "  <tbody>\n",
              "    <tr>\n",
              "      <th>0</th>\n",
              "      <td>36.200000</td>\n",
              "      <td>-94.600000</td>\n",
              "      <td>1</td>\n",
              "    </tr>\n",
              "    <tr>\n",
              "      <th>1</th>\n",
              "      <td>36.279299</td>\n",
              "      <td>-94.631628</td>\n",
              "      <td>1</td>\n",
              "    </tr>\n",
              "  </tbody>\n",
              "</table>\n",
              "</div>\n",
              "      <button class=\"colab-df-convert\" onclick=\"convertToInteractive('df-daf9bb05-f995-455d-828d-6e491a6d6cdb')\"\n",
              "              title=\"Convert this dataframe to an interactive table.\"\n",
              "              style=\"display:none;\">\n",
              "        \n",
              "  <svg xmlns=\"http://www.w3.org/2000/svg\" height=\"24px\"viewBox=\"0 0 24 24\"\n",
              "       width=\"24px\">\n",
              "    <path d=\"M0 0h24v24H0V0z\" fill=\"none\"/>\n",
              "    <path d=\"M18.56 5.44l.94 2.06.94-2.06 2.06-.94-2.06-.94-.94-2.06-.94 2.06-2.06.94zm-11 1L8.5 8.5l.94-2.06 2.06-.94-2.06-.94L8.5 2.5l-.94 2.06-2.06.94zm10 10l.94 2.06.94-2.06 2.06-.94-2.06-.94-.94-2.06-.94 2.06-2.06.94z\"/><path d=\"M17.41 7.96l-1.37-1.37c-.4-.4-.92-.59-1.43-.59-.52 0-1.04.2-1.43.59L10.3 9.45l-7.72 7.72c-.78.78-.78 2.05 0 2.83L4 21.41c.39.39.9.59 1.41.59.51 0 1.02-.2 1.41-.59l7.78-7.78 2.81-2.81c.8-.78.8-2.07 0-2.86zM5.41 20L4 18.59l7.72-7.72 1.47 1.35L5.41 20z\"/>\n",
              "  </svg>\n",
              "      </button>\n",
              "      \n",
              "  <style>\n",
              "    .colab-df-container {\n",
              "      display:flex;\n",
              "      flex-wrap:wrap;\n",
              "      gap: 12px;\n",
              "    }\n",
              "\n",
              "    .colab-df-convert {\n",
              "      background-color: #E8F0FE;\n",
              "      border: none;\n",
              "      border-radius: 50%;\n",
              "      cursor: pointer;\n",
              "      display: none;\n",
              "      fill: #1967D2;\n",
              "      height: 32px;\n",
              "      padding: 0 0 0 0;\n",
              "      width: 32px;\n",
              "    }\n",
              "\n",
              "    .colab-df-convert:hover {\n",
              "      background-color: #E2EBFA;\n",
              "      box-shadow: 0px 1px 2px rgba(60, 64, 67, 0.3), 0px 1px 3px 1px rgba(60, 64, 67, 0.15);\n",
              "      fill: #174EA6;\n",
              "    }\n",
              "\n",
              "    [theme=dark] .colab-df-convert {\n",
              "      background-color: #3B4455;\n",
              "      fill: #D2E3FC;\n",
              "    }\n",
              "\n",
              "    [theme=dark] .colab-df-convert:hover {\n",
              "      background-color: #434B5C;\n",
              "      box-shadow: 0px 1px 3px 1px rgba(0, 0, 0, 0.15);\n",
              "      filter: drop-shadow(0px 1px 2px rgba(0, 0, 0, 0.3));\n",
              "      fill: #FFFFFF;\n",
              "    }\n",
              "  </style>\n",
              "\n",
              "      <script>\n",
              "        const buttonEl =\n",
              "          document.querySelector('#df-daf9bb05-f995-455d-828d-6e491a6d6cdb button.colab-df-convert');\n",
              "        buttonEl.style.display =\n",
              "          google.colab.kernel.accessAllowed ? 'block' : 'none';\n",
              "\n",
              "        async function convertToInteractive(key) {\n",
              "          const element = document.querySelector('#df-daf9bb05-f995-455d-828d-6e491a6d6cdb');\n",
              "          const dataTable =\n",
              "            await google.colab.kernel.invokeFunction('convertToInteractive',\n",
              "                                                     [key], {});\n",
              "          if (!dataTable) return;\n",
              "\n",
              "          const docLinkHtml = 'Like what you see? Visit the ' +\n",
              "            '<a target=\"_blank\" href=https://colab.research.google.com/notebooks/data_table.ipynb>data table notebook</a>'\n",
              "            + ' to learn more about interactive tables.';\n",
              "          element.innerHTML = '';\n",
              "          dataTable['output_type'] = 'display_data';\n",
              "          await google.colab.output.renderOutput(dataTable, element);\n",
              "          const docLink = document.createElement('div');\n",
              "          docLink.innerHTML = docLinkHtml;\n",
              "          element.appendChild(docLink);\n",
              "        }\n",
              "      </script>\n",
              "    </div>\n",
              "  </div>\n",
              "  "
            ]
          },
          "metadata": {},
          "execution_count": 41
        }
      ]
    },
    {
      "cell_type": "code",
      "source": [
        "import plotly.express as px\n",
        "import plotly.figure_factory as ff\n",
        "import numpy as np\n",
        "MAPBOX_TOKEN = 'pk.eyJ1IjoiZm9kZ2Fib3JtYXRoIiwiYSI6ImNrZmY3Nzc2bjBiemkyeG8zdGNzcXgzMGIifQ.J0dZhMiuZTPVexL8nrpS6Q'\n",
        "px.set_mapbox_access_token(MAPBOX_TOKEN)"
      ],
      "metadata": {
        "id": "nRLAh32g2LeG"
      },
      "execution_count": null,
      "outputs": []
    },
    {
      "cell_type": "code",
      "source": [
        "fig = px.scatter_geo(all_stores, \n",
        "                     lon = all_stores['longitude'],\n",
        "                     lat = all_stores['latitude'], \n",
        "                     color=\"count\",\n",
        "                     hover_name=\"count\", size=\"count\",\n",
        "                     projection=\"natural earth\")\n",
        "fig.show()"
      ],
      "metadata": {
        "id": "5X5BvZQ3DbHj"
      },
      "execution_count": null,
      "outputs": []
    },
    {
      "cell_type": "code",
      "source": [
        "fig = ff.create_hexbin_mapbox(\n",
        "    data_frame=all_stores, lat='latitude', lon='longitude',\n",
        "    nx_hexagon=150, opacity=0.9, labels={\"color\": \"Hotspot records\"},\n",
        "    color='count', agg_func=np.sum, color_continuous_scale=\"Reds\"\n",
        ")\n",
        "fig.show()"
      ],
      "metadata": {
        "id": "haD0yLFlDd23"
      },
      "execution_count": null,
      "outputs": []
    },
    {
      "cell_type": "code",
      "source": [
        "fig = px.density_mapbox(all_stores, lat='latitude', lon='longitude', z='count', radius=10,\n",
        "                        center=dict(lat=41.3, lon=-96.1), zoom=3,\n",
        "                        mapbox_style=\"stamen-terrain\")\n",
        "fig.show()"
      ],
      "metadata": {
        "id": "Fe3NxBLfEi-2"
      },
      "execution_count": null,
      "outputs": []
    }
  ]
}
